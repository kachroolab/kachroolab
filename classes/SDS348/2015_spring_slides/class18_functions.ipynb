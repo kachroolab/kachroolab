{
 "metadata": {
  "name": "",
  "signature": "sha256:d0fcb9a9fdd494fe2393f2788f9ffba1ad3ec55943e01027c582f7dc5289586c"
 },
 "nbformat": 3,
 "nbformat_minor": 0,
 "worksheets": [
  {
   "cells": [
    {
     "cell_type": "heading",
     "level": 1,
     "metadata": {},
     "source": [
      "Python III: Functions <br>"
     ]
    },
    {
     "cell_type": "markdown",
     "metadata": {},
     "source": [
      "Python, like all computer languages (and R!), contains lots of built-in functions, such as `len()`, `sum()`, `type()`, etc. It is also possible to write your own custom functions. In fact, we've already seen custom functions in R (the `calc_ROC()` function that Dr. Wilke wrote). Functions are an integral part of programming, allowing your code to be moduluar, repeatable, and readable.\n",
      "\n",
      "<br>\n",
      "In python, functions are defined with the `def` command. Similar to control flow, all code inside the function should be indented. Values are *returned* from the function with the command `return`. The basic format for defining a function is, \n",
      "\n",
      "```\n",
      "def my_function(argument1, argument2, (more arguments if you want)):\n",
      "    code \n",
      "    code\n",
      "    more code\n",
      "    return x\n",
      "```\n",
      "\n",
      "Note that the variable names (above, `argument1` and `argument2`) are completely arbitrary and exist only within the code of the function itself! Think of them as part of a formula.\n",
      "\n",
      "<br>\n",
      "Below is an example of a simple function to add two numbers together"
     ]
    },
    {
     "cell_type": "code",
     "collapsed": false,
     "input": [
      "# Define a function called \"add\". \n",
      "# This function takes 2 arguments and returns their sum.\n",
      "def add(x, y):\n",
      "    return x + y\n",
      "\n",
      "# To execute the code inside the function, run the function!\n",
      "number1 = 4\n",
      "number2 = 99\n",
      "print add(4,99)\n",
      "\n"
     ],
     "language": "python",
     "metadata": {},
     "outputs": [
      {
       "output_type": "stream",
       "stream": "stdout",
       "text": [
        "103\n"
       ]
      }
     ],
     "prompt_number": 2
    },
    {
     "cell_type": "code",
     "collapsed": false,
     "input": [
      "# Note that the variables x,y (used inside the function) do not exist here! (NameError below)\n",
      "print x, y"
     ],
     "language": "python",
     "metadata": {},
     "outputs": [
      {
       "ename": "NameError",
       "evalue": "name 'x' is not defined",
       "output_type": "pyerr",
       "traceback": [
        "\u001b[0;31m---------------------------------------------------------------------------\u001b[0m\n\u001b[0;31mNameError\u001b[0m                                 Traceback (most recent call last)",
        "\u001b[0;32m<ipython-input-8-7eb2f47f565f>\u001b[0m in \u001b[0;36m<module>\u001b[0;34m()\u001b[0m\n\u001b[1;32m      1\u001b[0m \u001b[0;31m# Note that the variables x,y (used inside the function) do not exist here! (NameError below)\u001b[0m\u001b[0;34m\u001b[0m\u001b[0;34m\u001b[0m\u001b[0m\n\u001b[0;32m----> 2\u001b[0;31m \u001b[0;32mprint\u001b[0m \u001b[0mx\u001b[0m\u001b[0;34m,\u001b[0m \u001b[0my\u001b[0m\u001b[0;34m\u001b[0m\u001b[0m\n\u001b[0m",
        "\u001b[0;31mNameError\u001b[0m: name 'x' is not defined"
       ]
      }
     ],
     "prompt_number": 8
    },
    {
     "cell_type": "code",
     "collapsed": false,
     "input": [
      "# Providing the wrong number of arguments will raise an error\n",
      "print add(number1)"
     ],
     "language": "python",
     "metadata": {},
     "outputs": [
      {
       "ename": "TypeError",
       "evalue": "add() takes exactly 2 arguments (1 given)",
       "output_type": "pyerr",
       "traceback": [
        "\u001b[0;31m---------------------------------------------------------------------------\u001b[0m\n\u001b[0;31mTypeError\u001b[0m                                 Traceback (most recent call last)",
        "\u001b[0;32m<ipython-input-9-99962dbd8585>\u001b[0m in \u001b[0;36m<module>\u001b[0;34m()\u001b[0m\n\u001b[1;32m      1\u001b[0m \u001b[0;31m# Providing the wrong number of arguments will raise an error\u001b[0m\u001b[0;34m\u001b[0m\u001b[0;34m\u001b[0m\u001b[0m\n\u001b[0;32m----> 2\u001b[0;31m \u001b[0;32mprint\u001b[0m \u001b[0madd\u001b[0m\u001b[0;34m(\u001b[0m\u001b[0mnumber1\u001b[0m\u001b[0;34m)\u001b[0m\u001b[0;34m\u001b[0m\u001b[0m\n\u001b[0m",
        "\u001b[0;31mTypeError\u001b[0m: add() takes exactly 2 arguments (1 given)"
       ]
      }
     ],
     "prompt_number": 9
    },
    {
     "cell_type": "markdown",
     "metadata": {},
     "source": [
      "<br>\n",
      "Functions can also return multiple values, as follows:"
     ]
    },
    {
     "cell_type": "code",
     "collapsed": false,
     "input": [
      "# Define a function to divide two numbers.\n",
      "# Function returns the dividend and remainder\n",
      "def divide_remain(x, y):\n",
      "    div = x / y\n",
      "    rem = x % y\n",
      "    return div, rem # return multiple values separated by commas\n",
      "\n",
      "# Run the function and save returned values\n",
      "a = 88.0\n",
      "b = 12.0\n",
      "dividend, remainder = divide_remain(a, b) # returned values can be saved to unique variables\n",
      "print dividend\n",
      "print remainder\n"
     ],
     "language": "python",
     "metadata": {},
     "outputs": [
      {
       "output_type": "stream",
       "stream": "stdout",
       "text": [
        "7.33333333333\n",
        "4.0\n"
       ]
      }
     ],
     "prompt_number": 10
    },
    {
     "cell_type": "code",
     "collapsed": false,
     "input": [
      "# Alternatively, returned values can be saved to a single variable and then indexed\n",
      "results = divide_remain(a, b)\n",
      "# multiple returned values are stored in a tuple (like a list that can't be changed)\n",
      "print type(results)\n",
      "\n",
      "print \"Length of results tuple:\", len(results)\n",
      "print results[0]\n",
      "print results[1]\n"
     ],
     "language": "python",
     "metadata": {},
     "outputs": [
      {
       "output_type": "stream",
       "stream": "stdout",
       "text": [
        "<type 'tuple'>\n",
        "Length of results tuple: 2\n",
        "7.33333333333\n",
        "4.0\n"
       ]
      }
     ],
     "prompt_number": 11
    }
   ],
   "metadata": {}
  }
 ]
}
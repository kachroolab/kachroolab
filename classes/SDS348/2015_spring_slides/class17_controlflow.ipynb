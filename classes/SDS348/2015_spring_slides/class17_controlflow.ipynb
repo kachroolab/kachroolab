{
 "metadata": {
  "name": "",
  "signature": "sha256:a13b0ccbf0f7c106d2dfd0bb1e877b675be03a24d29111537cae03cd7dc8ace6"
 },
 "nbformat": 3,
 "nbformat_minor": 0,
 "worksheets": [
  {
   "cells": [
    {
     "cell_type": "heading",
     "level": 1,
     "metadata": {},
     "source": [
      "Python II: Control Flow <br>"
     ]
    },
    {
     "cell_type": "markdown",
     "metadata": {},
     "source": [
      "## `if` statement\n",
      "\n",
      "The `if` statement allows you to execute pieces of code only if a given **logical statement** is True. Logical statements are any piece of code which yields a True or False value (typically, used with `==`, `is`, `>`, `<`, etc).\n",
      "<br><br> `if` statements follow the basic format, \n",
      "```\n",
      "if <logical statement is True>:\n",
      "    do this code\n",
      "```\n",
      "Examples:"
     ]
    },
    {
     "cell_type": "code",
     "collapsed": false,
     "input": [
      "# This if statement evaluates as True\n",
      "a = 5\n",
      "if a < 10:\n",
      "    print \"a is less than 10!\""
     ],
     "language": "python",
     "metadata": {},
     "outputs": [
      {
       "output_type": "stream",
       "stream": "stdout",
       "text": [
        "a is less than 10!\n"
       ]
      }
     ],
     "prompt_number": 115
    },
    {
     "cell_type": "code",
     "collapsed": false,
     "input": [
      "# This if statement evaluates as False. Note that there is NO output!\n",
      "a = 5\n",
      "if a > 10:\n",
      "    print a, \"is greater than 10!\""
     ],
     "language": "python",
     "metadata": {},
     "outputs": [],
     "prompt_number": 116
    },
    {
     "cell_type": "markdown",
     "metadata": {},
     "source": [
      "<br><br> `if` statements can be used in conjunction with `else` statements to create `if/else` statements. These statements execute code inside the `if` if the logical statement is True, and if the statement is False, code inside the `else` block is executed. <br><br> `if/else` statements follow the basic format, \n",
      "```\n",
      "if <logical statement is True>:\n",
      "    do this code\n",
      "else:\n",
      "    do this code instead\n",
      "```\n",
      "Examples:\n"
     ]
    },
    {
     "cell_type": "code",
     "collapsed": false,
     "input": [
      "# Either code inside the \"if\" or code inside the \"else\" gets executed - not both!\n",
      "a = 5\n",
      "if a > 10:\n",
      "    print a, \"is greater than 10\"\n",
      "else:\n",
      "    print a, \"is less than or equal to 10\""
     ],
     "language": "python",
     "metadata": {},
     "outputs": [
      {
       "output_type": "stream",
       "stream": "stdout",
       "text": [
        "5 is less than or equal to 10\n"
       ]
      }
     ],
     "prompt_number": 117
    },
    {
     "cell_type": "markdown",
     "metadata": {},
     "source": [
      "<br><br> There are also constructs known in python as `elif` (\"else if\"), which allow you to test multiple conditions. \n",
      "<br> `if/elif/ese` statements follow the basic format, \n",
      "```\n",
      "if <logical statement is True>:\n",
      "    do this code\n",
      "elif <some other logical statement is True>:\n",
      "    do this code instead\n",
      "else:\n",
      "    do this code if nothing above was true.\n",
      "```\n",
      "\n",
      "You can have as many `elif` statements, following an initial `if` statement, as you want! It is not strictly necessary to end with `else`, but typically you will want to do so. In a given `if/elif.../else` construct, only **one** of the conditions will run. Should an `if` or `elif` evaluate to True, python will simply run that code and ignore the rest.\n",
      "\n",
      "<br>Examples:\n",
      " "
     ]
    },
    {
     "cell_type": "code",
     "collapsed": false,
     "input": [
      "a = 6\n",
      "b = 22\n",
      "if a > b:\n",
      "    print a, \"is greater than\", b\n",
      "elif a < b:\n",
      "    print a, \"is less than\", b\n",
      "else:\n",
      "    print a, \"is equal to\", b\n"
     ],
     "language": "python",
     "metadata": {},
     "outputs": [
      {
       "output_type": "stream",
       "stream": "stdout",
       "text": [
        "6 is less than 22\n"
       ]
      }
     ],
     "prompt_number": 118
    },
    {
     "cell_type": "markdown",
     "metadata": {},
     "source": [
      "<br>\n",
      "Note that multiple `if` statements in a row are entirely distinct! If you have an `if` statement followed by another `if` statement, they can both be run! Further, `elif` and `else` statements are connected only to the most recent `if` statement preceding them."
     ]
    },
    {
     "cell_type": "code",
     "collapsed": false,
     "input": [
      "s = \"elephant\"\n",
      "if len(s) < 50:\n",
      "    print s, \"is shorter than 50 characters\"\n",
      "if len(s) < 30:\n",
      "    print s, \"is shorter than 30 characters\"\n",
      "else: # this goes with len(s) < 30, NOT len(s) < 50!!\n",
      "    print s, \"is longer than 30 characters\""
     ],
     "language": "python",
     "metadata": {},
     "outputs": [
      {
       "output_type": "stream",
       "stream": "stdout",
       "text": [
        "elephant is shorter than 50 characters\n",
        "elephant is shorter than 30 characters\n"
       ]
      }
     ],
     "prompt_number": 119
    },
    {
     "cell_type": "markdown",
     "metadata": {},
     "source": [
      "<br><br>\n",
      "\n",
      "## `for` loop\n",
      "\n",
      "`for` loops are used in two main circumstances:\n",
      "1. to perform a certain operation on each item in a list, string, dictionary, etc.\n",
      "2. to perform a certain operation a specific number of times\n",
      "\n",
      "<br>They follow the basic format, \n",
      "```\n",
      "for item in container:\n",
      "\tdo this command\n",
      "\tdo that command\n",
      "```\n",
      "\n",
      "The `item` is known as a \"loop variable\". At each iteration of the loop, the variable `item` takes on a specific value corresponding to that iteration. This variable will change at each new iteration of the loop.\n",
      "\n",
      "\n",
      "<br> Examples of looping over lists, strings, dictionaries:"
     ]
    },
    {
     "cell_type": "code",
     "collapsed": false,
     "input": [
      "# Loop over a list\n",
      "mylist = [1,2,3,4]\n",
      "for i in mylist:\n",
      "    print i"
     ],
     "language": "python",
     "metadata": {},
     "outputs": [
      {
       "output_type": "stream",
       "stream": "stdout",
       "text": [
        "1\n",
        "2\n",
        "3\n",
        "4\n"
       ]
      }
     ],
     "prompt_number": 120
    },
    {
     "cell_type": "code",
     "collapsed": false,
     "input": [
      "# Loop over a string\n",
      "for x in \"abcdefg\":\n",
      "    print x"
     ],
     "language": "python",
     "metadata": {},
     "outputs": [
      {
       "output_type": "stream",
       "stream": "stdout",
       "text": [
        "a\n",
        "b\n",
        "c\n",
        "d\n",
        "e\n",
        "f\n",
        "g\n"
       ]
      }
     ],
     "prompt_number": 121
    },
    {
     "cell_type": "code",
     "collapsed": false,
     "input": [
      "# Loop over a dictionary (loops over keys!!)\n",
      "d = {\"a\":1, \"b\":2, \"c\":3, \"d\":4}\n",
      "for x in d:\n",
      "    print x # prints the key\n",
      "    print d[x] # prints the key x's value\n",
      "    print # using print on its own will print a blank line\n"
     ],
     "language": "python",
     "metadata": {},
     "outputs": [
      {
       "output_type": "stream",
       "stream": "stdout",
       "text": [
        "a\n",
        "1\n",
        "\n",
        "c\n",
        "3\n",
        "\n",
        "b\n",
        "2\n",
        "\n",
        "d\n",
        "4\n",
        "\n"
       ]
      }
     ],
     "prompt_number": 122
    },
    {
     "cell_type": "markdown",
     "metadata": {},
     "source": [
      "Oftentimes, counter variables are used in loops to keep track of which iteration you're on."
     ]
    },
    {
     "cell_type": "code",
     "collapsed": false,
     "input": [
      "i = 0 # Define counter variable\n",
      "for x in [3,6,9,12]:\n",
      "    print x\n",
      "    i += 1 # Increment the variable i by 1 with the += operator\n",
      "    print \"We just finished iteration number\", i"
     ],
     "language": "python",
     "metadata": {},
     "outputs": [
      {
       "output_type": "stream",
       "stream": "stdout",
       "text": [
        "3\n",
        "We just finished iteration number 1\n",
        "6\n",
        "We just finished iteration number 2\n",
        "9\n",
        "We just finished iteration number 3\n",
        "12\n",
        "We just finished iteration number 4\n"
       ]
      }
     ],
     "prompt_number": 123
    },
    {
     "cell_type": "markdown",
     "metadata": {},
     "source": [
      "<br> To perform an action a specific number of times, the `range()` statement is commonly used. Remember, `range()` simply creates a list using arguments analogous to indexing. For example,"
     ]
    },
    {
     "cell_type": "code",
     "collapsed": false,
     "input": [
      "# List of numbers 0-9, which has a length of 10\n",
      "print range(10)"
     ],
     "language": "python",
     "metadata": {},
     "outputs": [
      {
       "output_type": "stream",
       "stream": "stdout",
       "text": [
        "[0, 1, 2, 3, 4, 5, 6, 7, 8, 9]\n"
       ]
      }
     ],
     "prompt_number": 124
    },
    {
     "cell_type": "code",
     "collapsed": false,
     "input": [
      "# List of numbers 2-13, where 2 in included but 13 is not\n",
      "print range(2,13)"
     ],
     "language": "python",
     "metadata": {},
     "outputs": [
      {
       "output_type": "stream",
       "stream": "stdout",
       "text": [
        "[2, 3, 4, 5, 6, 7, 8, 9, 10, 11, 12]\n"
       ]
      }
     ],
     "prompt_number": 125
    },
    {
     "cell_type": "code",
     "collapsed": false,
     "input": [
      "# List of numbers 4-20, incrementing by 2, where 4 in included but 20 is not\n",
      "print range(4,20,2)"
     ],
     "language": "python",
     "metadata": {},
     "outputs": [
      {
       "output_type": "stream",
       "stream": "stdout",
       "text": [
        "[4, 6, 8, 10, 12, 14, 16, 18]\n"
       ]
      }
     ],
     "prompt_number": 126
    },
    {
     "cell_type": "markdown",
     "metadata": {},
     "source": [
      "In the context of `for` loops, we typically will loop over each element in a `range` list created on-the-fly. This allows us to perform a task a pre-specified number of times (usually, via a single argument to `range`.)"
     ]
    },
    {
     "cell_type": "code",
     "collapsed": false,
     "input": [
      "# Perform a specific operation 4 times. The loop variable \"i\" does not need to be used.\n",
      "for i in range(4):\n",
      "    print \"printing 4 times!\""
     ],
     "language": "python",
     "metadata": {},
     "outputs": [
      {
       "output_type": "stream",
       "stream": "stdout",
       "text": [
        "printing 4 times!\n",
        "printing 4 times!\n",
        "printing 4 times!\n",
        "printing 4 times!\n"
       ]
      }
     ],
     "prompt_number": 127
    },
    {
     "cell_type": "markdown",
     "metadata": {},
     "source": [
      "<br><br>\n",
      "\n",
      "## Combining if and for\n",
      "\n",
      "Examples:"
     ]
    },
    {
     "cell_type": "code",
     "collapsed": false,
     "input": [
      "# Evaluate a condition on every element in a list\n",
      "mylist = [8, 472, -185, 0, -778.2, 23, 90, -0.003]\n",
      "for i in mylist:\n",
      "    if i > 0:\n",
      "        print i, \"is positive\"\n",
      "    elif i < 0:\n",
      "        print i, \"is negative\"\n",
      "    else:\n",
      "        print i, \"is 0\""
     ],
     "language": "python",
     "metadata": {},
     "outputs": [
      {
       "output_type": "stream",
       "stream": "stdout",
       "text": [
        "8 is positive\n",
        "472 is positive\n",
        "-185 is negative\n",
        "0 is 0\n",
        "-778.2 is negative\n",
        "23 is positive\n",
        "90 is positive\n",
        "-0.003 is negative\n"
       ]
      }
     ],
     "prompt_number": 128
    },
    {
     "cell_type": "code",
     "collapsed": false,
     "input": [
      "# Find the sum of all the multiples of three below (and including!) 30.\n",
      "sum_div3 = 0\n",
      "for x in range(1, 31):\n",
      "    if x%3 == 0:\n",
      "        sum_div3 += x\n",
      "print \"The sum of all multiples of 3 which are <= 30 is\", sum_div3\n"
     ],
     "language": "python",
     "metadata": {},
     "outputs": [
      {
       "output_type": "stream",
       "stream": "stdout",
       "text": [
        "The sum of all multiples of 3 which are <= 30 is 165\n"
       ]
      }
     ],
     "prompt_number": 129
    },
    {
     "cell_type": "code",
     "collapsed": false,
     "input": [
      "# test whether sequence is RNA or DNA by seeing if there is a uracil\n",
      "seqs=['AUUGAC', 'AGACT', 'CGATAGCA', 'UCCAGAC', 'UGGACU', 'TAGCAGA']\n",
      "for seq in seqs:\n",
      "    if 'U' in seq and 'T' not in seq:\n",
      "        print seq, \"is probably RNA\"\n",
      "    elif 'T' in seq and 'U' not in seq:\n",
      "        print seq, \"is probably DNA\"\n",
      "    elif 'T' in seq and 'U' in seq:\n",
      "        print seq, \"has both T and U. I don't know what it is!\"\n",
      "    elif 'T' not in seq and 'U' not in seq:\n",
      "        print seq, \"has neither T nor U. I don't know what it is!\"\n",
      "    else:\n",
      "        print \"huh???\"\n"
     ],
     "language": "python",
     "metadata": {},
     "outputs": [
      {
       "output_type": "stream",
       "stream": "stdout",
       "text": [
        "AUUGAC is probably RNA\n",
        "AGACT is probably DNA\n",
        "CGATAGCA is probably DNA\n",
        "UCCAGAC is probably RNA\n",
        "UGGACU is probably RNA\n",
        "TAGCAGA is probably DNA\n"
       ]
      }
     ],
     "prompt_number": 130
    }
   ],
   "metadata": {}
  }
 ]
}
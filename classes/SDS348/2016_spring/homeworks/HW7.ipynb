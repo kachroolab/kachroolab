{
 "cells": [
  {
   "cell_type": "markdown",
   "metadata": {},
   "source": [
    "# Homework 7 Solutions"
   ]
  },
  {
   "cell_type": "markdown",
   "metadata": {},
   "source": [
    "*Enter your name and EID here*\n",
    "\n",
    "**This homework is due on Mar. 22, 2016 at 11:59pm. Please submit as a PDF file on Canvas. Before submission, please re-run all cells by clicking \"Kernel\" and selecting \"Restart & Run All.\"**\n",
    "\n",
    "**Problem 1 (5 pts)**: Create a list with the names of your favorite animals. Your list should contain at least 5 animals. Then, complete the following steps using python. *Each step should be completed in a different cell and your results should be printed with `print()`.*\n",
    "\n",
    "1. Sort the list so that the names appear in alphabetical order.\n",
    "2. How many items are in the list? *Hint:* use the function `len()`.\n",
    "3. Remove an animal from your list and print the length of the list again.\n",
    "4. Add the animal \"ostrich\" to your list.\n",
    "5. Make a new list in which every animal name in your original list is repeated 3 times."
   ]
  },
  {
   "cell_type": "code",
   "execution_count": 1,
   "metadata": {
    "collapsed": true
   },
   "outputs": [],
   "source": [
    "# Your code goes here."
   ]
  },
  {
   "cell_type": "markdown",
   "metadata": {},
   "source": [
    "**Problem 2 (5 pts)**: Now imagine that you have gone to the zoo to see your favorite animals listed in Problem 1. Create a dictionary that contains the names of the animals as keys and counts for each animal as the values. (For example, if there are 3 giraffes at the zoo, the key would be \"giraffe\" and the value would be 3.) The counts should just be made-up counts. Then, complete the following steps using python. *Each step should be completed in a different cell and your results should be printed with `print()`.*\n",
    "\n",
    "1. How many total animals did you observe? (In other words, add up all of the counts.)\n",
    "2. Add an animal \"monkey\" to your dictionary and give it a count of 5.\n",
    "3. Print out a list of the *keys* in your dictionary (i.e., the animal names).\n",
    "4. Print out a list of the *values* in your dictionary (i.e., the counts).\n",
    "5. Remove a key-value pair from your dictionary."
   ]
  },
  {
   "cell_type": "code",
   "execution_count": 2,
   "metadata": {
    "collapsed": false
   },
   "outputs": [],
   "source": [
    "# Your code goes here."
   ]
  }
 ],
 "metadata": {
  "kernelspec": {
   "display_name": "Python 3",
   "language": "python",
   "name": "python3"
  },
  "language_info": {
   "codemirror_mode": {
    "name": "ipython",
    "version": 3
   },
   "file_extension": ".py",
   "mimetype": "text/x-python",
   "name": "python",
   "nbconvert_exporter": "python",
   "pygments_lexer": "ipython3",
   "version": "3.5.1"
  }
 },
 "nbformat": 4,
 "nbformat_minor": 0
}

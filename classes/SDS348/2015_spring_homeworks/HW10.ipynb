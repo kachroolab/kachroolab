{
 "metadata": {
  "name": "",
  "signature": "sha256:83111872bff6abd0f062f752e18a675bb855196763a5c0b5c1e76427f4857c0c"
 },
 "nbformat": 3,
 "nbformat_minor": 0,
 "worksheets": [
  {
   "cells": [
    {
     "cell_type": "heading",
     "level": 1,
     "metadata": {},
     "source": [
      "Homework 10"
     ]
    },
    {
     "cell_type": "markdown",
     "metadata": {},
     "source": [
      "*Enter your name and EID here*"
     ]
    },
    {
     "cell_type": "markdown",
     "metadata": {},
     "source": [
      "**This homework is due on April 21, 2015 by 12:30 pm.** You may turn in the assignment in one of the following formats (on Canvas):\n",
      "\n",
      "+ The completed iPython Notebook in its current \".ipynb\" format\n",
      "+ The completed iPython Notebook converted to HTML or PDF\n",
      "+ A well-commented python script\n",
      "\n",
      "<br><br>"
     ]
    },
    {
     "cell_type": "markdown",
     "metadata": {},
     "source": [
      "**Problem 1 (6 points):** \n",
      "Most genes in the *E. coli* genome start with the canonical start codon ATG, but some genes start with other codons, for example GTG. Write a python program that finds all start codons that exist in the *E. coli* genome and that counts how often each start codon is used. The program should then save the results into a csv file that can be used from R. \n",
      "\n",
      "Hints:\n",
      "- Start with the code from Class 21, Exercise 3, available [here.](http://wilkelab.org/classes/SDS348/2015_spring_worksheets/class21_solutions.html)\n",
      "- Running the code over the entire genome can take a while. First make sure that the code works correctly, by limiting the loop to a small number of genes as we did in class 21. Once you are satisifed with your code, let it run over the entire genome.\n",
      "- Writing data to csv files was discussed in the discussion section on April 8."
     ]
    },
    {
     "cell_type": "code",
     "collapsed": false,
     "input": [
      "# your code goes here"
     ],
     "language": "python",
     "metadata": {},
     "outputs": [],
     "prompt_number": 1
    },
    {
     "cell_type": "markdown",
     "metadata": {},
     "source": [
      "**Problem 2 (4 points):** \n",
      "Take the csv file you created under Problem 1, read it into R, and make a barplot of your results. Then discuss your results in 2-3 sentences. Submit this part of the homework as a pdf created from an R Markdown file."
     ]
    }
   ],
   "metadata": {}
  }
 ]
}
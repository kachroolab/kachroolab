{
 "metadata": {
  "name": "",
  "signature": "sha256:a61f17271aa520672b1b2ea85766c9a075c75dda2a6733f3b3fa64352675698a"
 },
 "nbformat": 3,
 "nbformat_minor": 0,
 "worksheets": [
  {
   "cells": [
    {
     "cell_type": "heading",
     "level": 1,
     "metadata": {},
     "source": [
      "Homework 8"
     ]
    },
    {
     "cell_type": "markdown",
     "metadata": {},
     "source": [
      "*Enter your name and EID here*"
     ]
    },
    {
     "cell_type": "markdown",
     "metadata": {},
     "source": [
      "**This homework is due on April 7, 2015 by 12:30 pm.** You may turn in the assignment in one of the following formats (on Canvas):\n",
      "\n",
      "+ The completed iPython Notebook in its current \".ipynb\" format\n",
      "+ The completed iPython Notebook converted to HTML or PDF\n",
      "+ A well-commented python script\n",
      "\n",
      "<br><br>"
     ]
    },
    {
     "cell_type": "markdown",
     "metadata": {},
     "source": [
      "**Question 1 (5 points):** The list `mylist` defined below contains 10 entries, some of which are numbers (integers and floats) and some of which are strings. For this question, you will determine the mean value for all numeric entries in this list. To accomplish this goal, write a for-loop that iterates over each entry in the list. Your code should print a final statement that reads, \"The mean of all numbers in the list is X\" (where X has been properly replaced with the mean).\n",
      "\n",
      "Hint - when solving this question, these functions may be useful: type(), len(), and sum()."
     ]
    },
    {
     "cell_type": "code",
     "collapsed": false,
     "input": [
      "# Answer for question 1 goes here.\n",
      "mylist = [\"hello\", 89.21, -3, \"goodbye\", 21, 0.0056, -12.34, \"thank you\", \"please\", 999.44409]"
     ],
     "language": "python",
     "metadata": {},
     "outputs": [],
     "prompt_number": 1
    },
    {
     "cell_type": "markdown",
     "metadata": {},
     "source": [
      "<br><br>\n",
      "\n",
      "**Question 2 (5 points):** Write a function to calculate the counts of A's, C's, G's, and T's in a DNA sequence. Your function should take a single argument (a string of a DNA sequence) and return a dictionary of nucleotide counts. For example, if the argument `\"ACGTACGT\"` is provided, the function should return this dictionary: `{\"A\":2, \"C\":2, \"G\":2, \"T\":2}`. Once your function has been written, run the function on the the provided dna_string string given below, and print the returned dictionary.\n",
      "\n",
      "Hint - use the string method .count() as part of your solution."
     ]
    },
    {
     "cell_type": "code",
     "collapsed": false,
     "input": [
      "# Answer for question 2 goes here.\n",
      "\n",
      "# Variable to call the function on:\n",
      "dna_string = \"ATCGAGCTATACCGATACAGGCTGGTATAAAAGATTC\""
     ],
     "language": "python",
     "metadata": {},
     "outputs": [],
     "prompt_number": 2
    }
   ],
   "metadata": {}
  }
 ]
}
{
 "metadata": {
  "name": "",
  "signature": "sha256:625879ad7c0b307e636e5ba867f4b4d3fe89cc9d6631890d81c0601b374a6e2b"
 },
 "nbformat": 3,
 "nbformat_minor": 0,
 "worksheets": [
  {
   "cells": [
    {
     "cell_type": "heading",
     "level": 1,
     "metadata": {},
     "source": [
      "Class 21: Working with genomes"
     ]
    },
    {
     "cell_type": "markdown",
     "metadata": {},
     "source": [
      "In this class we will do more work with biopython and genomes. In particular, we will work with the *E. coli* K12 genome, available here: http://www.ncbi.nlm.nih.gov/nuccore/CP009685\n",
      "\n",
      "First, we download it and save it in a file `Ecoli_K12.gb`, as discussed in last class:"
     ]
    },
    {
     "cell_type": "code",
     "collapsed": false,
     "input": [
      "from Bio import Entrez, SeqIO\n",
      "Entrez.email = \"wilke@austin.utexas.edu\" # put your email here\n",
      "\n",
      "# Download E. coli K12 genome:\n",
      "download_handle = Entrez.efetch(db=\"nucleotide\", id=\"CP009685\", rettype=\"gb\", retmode=\"text\")\n",
      "data = download_handle.read()\n",
      "download_handle.close()\n",
      "\n",
      "# Store data into file \"Ecoli_K12.gb\":\n",
      "out_handle = open(\"Ecoli_K12.gb\", \"w\")\n",
      "out_handle.write(data)\n",
      "out_handle.close()"
     ],
     "language": "python",
     "metadata": {},
     "outputs": [],
     "prompt_number": 1
    },
    {
     "cell_type": "markdown",
     "metadata": {},
     "source": [
      "Now we can do various analyses with this genome file."
     ]
    },
    {
     "cell_type": "markdown",
     "metadata": {},
     "source": [
      "## Exercise 1\n",
      "\n",
      "Read in the genome and count how many coding sequences (CDSs) it contains.\n",
      "\n",
      "Hints:\n",
      "- First you need to parse the genbank file into a record, using `SeqIO.read()`.  \n",
      "(We use `SeqIO.read()` here and not `SeqIO.parse()` because the file contains only one record. `SeqIO.read()` is meant for files with exactly one record, and `SeqIO.parse()` for files that may contain one or more records. See [here](http://biopython.org/wiki/SeqIO) for details.)\n",
      "- All gene annotations are stored as features, and `record.features` gives you a list of all these features.\n",
      "Sequence features are explained [here.](http://biopython.org/DIST/docs/tutorial/Tutorial.html#htoc38)\n",
      "- Each feature has a type, accessible through `feature.type`. We are only interested in features of type \"CDS\".\n",
      "- See also the solutions to Excercise 3 of in-class worksheet 20 [here.](http://wilkelab.org/classes/SDS348/2015_spring_worksheets/class20_solutions.html)"
     ]
    },
    {
     "cell_type": "code",
     "collapsed": false,
     "input": [
      "# your code goes here."
     ],
     "language": "python",
     "metadata": {},
     "outputs": [],
     "prompt_number": 2
    },
    {
     "cell_type": "markdown",
     "metadata": {},
     "source": [
      "## Exercise 2\n",
      "\n",
      "Count how many of the coding sequences are marked as \"hypothetical protein\" (this information is provided in the \"product\" qualifier of a \"CDS\" feature).\n",
      "\n",
      "Hint:\n",
      "- Annotations such as \"product\" or \"locus_tag\" or \"gene\" etc. are stored in the dictionary `feature.qualifiers`."
     ]
    },
    {
     "cell_type": "code",
     "collapsed": false,
     "input": [
      "# your code goes here."
     ],
     "language": "python",
     "metadata": {},
     "outputs": [],
     "prompt_number": 3
    },
    {
     "cell_type": "markdown",
     "metadata": {},
     "source": [
      "## Exercise 3\n",
      "\n",
      "For the first 5 CDSs, print out the locus tag, the DNA sequence, and the protein sequence.\n",
      "\n",
      "Hint:\n",
      "- Before you start printing out sequences, make sure you have figured out how to stop iterating after 5 CDSs. You don't want to print out the sequences for all CDSs in the genome. (You want to add a counter variable `i` that you increase by one after each CDS you have processed. Once that variable is >= 5, stop processing further records.)\n",
      "- You can extract the sequence of a feature using the construct `feature.location.extract(record).seq` where `record` is the variable that holds the entire genome sequence."
     ]
    },
    {
     "cell_type": "code",
     "collapsed": false,
     "input": [
      "# your code goes here."
     ],
     "language": "python",
     "metadata": {},
     "outputs": [],
     "prompt_number": 4
    },
    {
     "cell_type": "markdown",
     "metadata": {},
     "source": [
      "## Exercise 4\n",
      "\n",
      "For the first 20 CDSs, calculate the mean CDS gene length (in amino acids).\n",
      "\n",
      "Hint:\n",
      "- This calculation can be quite slow, so it is crucial that you stop after you have processed 20 or so CDSs. If you iterate over the entire genome things will take forever. "
     ]
    },
    {
     "cell_type": "code",
     "collapsed": false,
     "input": [
      "# your code goes here."
     ],
     "language": "python",
     "metadata": {},
     "outputs": [],
     "prompt_number": 5
    },
    {
     "cell_type": "markdown",
     "metadata": {},
     "source": [
      "## If this was easy\n",
      "\n",
      "Count the number of CDSs that are encoded in positive sense (+ strand) or negative sense (- strand) in the genome. This can be achieved using the `feature.location` object."
     ]
    },
    {
     "cell_type": "code",
     "collapsed": false,
     "input": [
      "# your code goes here."
     ],
     "language": "python",
     "metadata": {},
     "outputs": [],
     "prompt_number": 6
    }
   ],
   "metadata": {}
  }
 ]
}
{
 "metadata": {
  "name": "",
  "signature": "sha256:0c7cf33990130df580b168c585ae3c0b01255e78c14d8a6b62f089b7034832e9"
 },
 "nbformat": 3,
 "nbformat_minor": 0,
 "worksheets": [
  {
   "cells": [
    {
     "cell_type": "markdown",
     "metadata": {},
     "source": [
      "# Class 18: Functions\n",
      "<br><br>"
     ]
    },
    {
     "cell_type": "markdown",
     "metadata": {},
     "source": [
      "<br>\n",
      "**Question 1.** \n",
      "  \n",
      "In the control flow lesson plan, we saw this piece of code which sums all multiples of 3 between 1-30:\n",
      "```\n",
      "sum_div3 = 0\n",
      "for x in range(1, 31):\n",
      "    if x%3 == 0:\n",
      "        sum_div3 += x\n",
      "print \"The sum of all multiples of 3 which are <= 30 is\", sum_div3\n",
      "```\n",
      "Using this code as a template, write a function that calculates all multiples of a given number, for all values within a specified range. This function should take three arguments: the multiple (3 in example above), the lower limit (1 in example above), and the upper limit (30 in example above). The function should return a single value, the sum of all multiples in that range. "
     ]
    },
    {
     "cell_type": "code",
     "collapsed": false,
     "input": [
      "# Code for question 1 goes here. Function template:\n",
      "#def sum_of_multiples(multiple, lower, upper):\n",
      "#    total_sum = 0\n",
      "#    ... other code goes here\n",
      "#    return total_sum\n",
      "\n",
      "# This is how the function should be used:\n",
      "#print sum_of_multiples(3, 1, 31)"
     ],
     "language": "python",
     "metadata": {},
     "outputs": [],
     "prompt_number": 1
    },
    {
     "cell_type": "markdown",
     "metadata": {},
     "source": [
      "**Question 2.**\n",
      "\n",
      "a) Write a function called `calc_mol_weight` to calculate the molecular weight of an amino acid sequence. Your function should take a single argument, an amino acid sequence, and return a single value, the sequence's weight. In your function, use the `amino_weights` dictionary given below. \n",
      "\n",
      "b) Test that your function behaves properly with the two `protseq` variables defined below. The known molecular weights for each `protseq` variable are shown in the comments. Write code (hint: if/else statements!) to determine if the function works correctly. If it doesn't work correctly, figure out why and rewrite the function until it works!\n"
     ]
    },
    {
     "cell_type": "code",
     "collapsed": false,
     "input": [
      "# Function definition goes here (uncomment below)\n",
      "# def calc_mol_weight(...):\n",
      "#    amino_weights = {'A':89.09,'R':174.20,'N':132.12,'D':133.10,'C':121.15,'Q':146.15,'E':147.13,'G':75.07,'H':155.16,'I':131.17,'L':131.17,'K':146.19,'M':149.21,'F':165.19,'P':115.13,'S':105.09,'T':119.12,'W':204.23,'Y':181.19,'V':117.15}\n",
      "#    # code\n",
      "#    return weight\n",
      "\n",
      "# Variables for testing that function works properly.\n",
      "protseq1 = \"AGAHHCTPL\" # weight = 1050.14\n",
      "protseq2 = \"HQWRSSXAD\" # weight = 1112.11\n",
      "# Run the function on protseq1 and protseq2. Use if/else to print out whether your function gave the right answer.\n",
      "\n"
     ],
     "language": "python",
     "metadata": {},
     "outputs": [],
     "prompt_number": 6
    },
    {
     "cell_type": "markdown",
     "metadata": {},
     "source": [
      "<br>\n",
      "**Question 3.** \n",
      "  \n",
      " Write a function to convert between celsius and fahrenheit. The formulas are as follows:\n",
      " \n",
      " + `C = (F - 32) * 5/9`\n",
      " + `F = 9/5 C + 32`\n",
      " \n",
      "Your function should take two arguments: the value to convert, and whether or not it should convert to celsius or fahrenheit. Your function should return a single variable, the new converted temperature. Once you have written your function, make sure than an input of 0 C returns 32 F, and vice versa. Additionally confirm that a value of 212 F returns 100 C, and vice versa."
     ]
    },
    {
     "cell_type": "code",
     "collapsed": false,
     "input": [
      "# Code for question 3 goes here."
     ],
     "language": "python",
     "metadata": {},
     "outputs": [],
     "prompt_number": 7
    }
   ],
   "metadata": {}
  }
 ]
}
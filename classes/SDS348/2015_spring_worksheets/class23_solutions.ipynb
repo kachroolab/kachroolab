{
 "metadata": {
  "name": "",
  "signature": "sha256:38b09ccbdd1dbd28e86856f7038b9755d8e09a9a323ba4e0fd6028e3d611a547"
 },
 "nbformat": 3,
 "nbformat_minor": 0,
 "worksheets": [
  {
   "cells": [
    {
     "cell_type": "heading",
     "level": 1,
     "metadata": {},
     "source": [
      "Class 23: Using regular expressions to analyze data"
     ]
    },
    {
     "cell_type": "markdown",
     "metadata": {},
     "source": [
      "In this class, we will discuss a few more real-world scenarios of how we can use regular expressions to analyze data. We will continue to work with the *E. coli* genome, as before. Thus, as before, we first download it:"
     ]
    },
    {
     "cell_type": "code",
     "collapsed": false,
     "input": [
      "from Bio import Entrez\n",
      "Entrez.email = \"wilke@austin.utexas.edu\" # put your email here\n",
      "\n",
      "# Download E. coli K12 genome:\n",
      "download_handle = Entrez.efetch(db=\"nucleotide\", id=\"CP009685\", rettype=\"gb\", retmode=\"text\")\n",
      "data = download_handle.read()\n",
      "download_handle.close()\n",
      "\n",
      "# Store data into file \"Ecoli_K12.gb\":\n",
      "out_handle = open(\"Ecoli_K12.gb\", \"w\")\n",
      "out_handle.write(data)\n",
      "out_handle.close()"
     ],
     "language": "python",
     "metadata": {},
     "outputs": [],
     "prompt_number": 1
    },
    {
     "cell_type": "markdown",
     "metadata": {},
     "source": [
      "Now we'll go straight to the exercises."
     ]
    },
    {
     "cell_type": "markdown",
     "metadata": {},
     "source": [
      "## Exercise 1\n",
      "\n",
      "Enzymes typically have names that end in \"ase\". For the first 100 protein-coding sequences in *E. coli*, find how many are enzymes, and print out what enzymes they are.\n",
      "\n",
      "Hint: Use the code from Exercise 2, class 21 (available [here](http://wilkelab.org/classes/SDS348/2015_spring_worksheets/class21_solutions.html)) as your starting point."
     ]
    },
    {
     "cell_type": "code",
     "collapsed": false,
     "input": [
      "import re\n",
      "from Bio import SeqIO\n",
      "\n",
      "in_handle = open(\"Ecoli_K12.gb\", \"r\")\n",
      "record = SeqIO.read(in_handle, \"genbank\")\n",
      "in_handle.close()\n",
      "\n",
      "max_i = 100\n",
      "i = 0\n",
      "enzyme_count = 0\n",
      "for feature in record.features:\n",
      "    if feature.type == 'CDS':\n",
      "        i += 1\n",
      "        if \"product\" in feature.qualifiers:\n",
      "            product = feature.qualifiers[\"product\"][0]\n",
      "            match = re.search(r\"ase$\", product)\n",
      "            if match:\n",
      "                print \"enzyme:\", product\n",
      "                enzyme_count += 1\n",
      "    if i >= max_i:\n",
      "        break\n",
      "\n",
      "print \"Total number of enzymes found:\", enzyme_count"
     ],
     "language": "python",
     "metadata": {},
     "outputs": [
      {
       "output_type": "stream",
       "stream": "stdout",
       "text": [
        "enzyme: cellulose synthase\n",
        "enzyme: cellulose synthase\n",
        "enzyme: endo-1,4-D-glucanase\n",
        "enzyme: cellulose synthase\n",
        "enzyme: ketodeoxygluconokinase\n",
        "enzyme: ketodeoxygluconokinase\n",
        "enzyme: c-di-GMP phosphodiesterase\n",
        "enzyme: trehalase\n",
        "enzyme: cytochrome C peroxidase\n",
        "enzyme: glutamate decarboxylase\n",
        "enzyme: transposase\n",
        "enzyme: arsenate reductase\n",
        "enzyme: glutathione reductase\n",
        "enzyme: methyltransferase\n",
        "enzyme: peptide ABC transporter permease\n",
        "enzyme: ACP synthase\n",
        "enzyme: permease\n",
        "enzyme: zinc ABC transporter ATPase\n",
        "enzyme: 16S rRNA methyltransferase\n",
        "enzyme: glycerol-3-phosphate transporter permease\n",
        "enzyme: glycerophosphodiester phosphodiesterase\n",
        "enzyme: gamma-glutamyltranspeptidase\n",
        "enzyme: transposase\n",
        "enzyme: transposase\n",
        "Total number of enzymes found: 24\n"
       ]
      }
     ],
     "prompt_number": 2
    },
    {
     "cell_type": "markdown",
     "metadata": {},
     "source": [
      "## Exercise 2\n",
      "\n",
      "Transcriptional regulators can belong to different families. They are generally annotated in the `product` field accordingly, e.g. \"LysR family transcriptional regulator\" or \"AraC family transcriptional regulator\". Write a script that extracts the family name for each transcriptional regulator and then counts how many regulators for each family are found."
     ]
    },
    {
     "cell_type": "code",
     "collapsed": false,
     "input": [
      "max_i = 5000 # do the entire genome\n",
      "i = 0\n",
      "family_dict = {}\n",
      "for feature in record.features:\n",
      "    if feature.type == 'CDS':\n",
      "        i += 1\n",
      "        if \"product\" in feature.qualifiers:\n",
      "            product = feature.qualifiers[\"product\"][0]\n",
      "            match = re.search(r\"(.* family) transcriptional regulator$\", product)\n",
      "            if match:\n",
      "                family = match.group(1)\n",
      "#                print \"found transcriptional regulator:\", family\n",
      "                if family in family_dict:\n",
      "                    family_dict[family] += 1\n",
      "                else:\n",
      "                    family_dict[family] = 1\n",
      "    if i >= max_i:\n",
      "        break\n",
      "\n",
      "print \"family \\t\\tcount\"  # \\t creates a tab stop to make a nicely formatted table\n",
      "for key in family_dict:\n",
      "    print key, \"\\t\", family_dict[key]"
     ],
     "language": "python",
     "metadata": {},
     "outputs": [
      {
       "output_type": "stream",
       "stream": "stdout",
       "text": [
        "family \t\tcount\n",
        "XylR family \t1\n",
        "LuxR family \t7\n",
        "Crp/Fnr family \t2\n",
        "LysR family \t20\n",
        "LytTR family \t1\n",
        "LacI family \t1\n",
        "ArsR family \t1\n",
        "AbrB family \t1\n",
        "TorR family \t1\n",
        "TetR family \t3\n",
        "HxlR family \t1\n",
        "AraC family \t11\n",
        "GntR family \t8\n",
        "MerR family \t1\n",
        "Fis family \t2\n",
        "CysB family \t1\n",
        "XRE family \t4\n",
        "NrdR family \t1\n",
        "IclR family \t3\n"
       ]
      }
     ],
     "prompt_number": 3
    },
    {
     "cell_type": "markdown",
     "metadata": {},
     "source": [
      "## If this was easy\n",
      "\n",
      "Write a function that takes a string holding a full name as input and that prints the first name as output. The function should be able to handle the following cases:\n",
      "- first last\n",
      "- first initial last\n",
      "- initial first last\n",
      "- last, first\n",
      "- last, first initial\n",
      "- last, initial first\n",
      "\n",
      "In all cases, the output should be \"first\". Assume that initials are given as one letter and a period.\n",
      "\n",
      "Hint: First separate the last name from first + initial, and then extract the first name from first + initial."
     ]
    },
    {
     "cell_type": "code",
     "collapsed": false,
     "input": [
      "import re\n",
      "\n",
      "def extract_first_name(name):\n",
      "    # first extract the first name + initial\n",
      "    match = re.search(r\"\\S+,\\s(.+)\", name) # is the name given in the form \"last, ...\"?\n",
      "    if match:\n",
      "        first_and_initial = match.group(1)\n",
      "    else: # no, name is given in the form \"... last\"\n",
      "        match = re.search(r\"(.+)\\s\\S+\", name)\n",
      "        if match:\n",
      "            first_and_initial = match.group(1)\n",
      "        else:\n",
      "            print \"Error: name doesn't match expected pattern.\"\n",
      "            return\n",
      "    \n",
      "    match = re.search(r\"(\\S+)\\s\\S\\.\", first_and_initial) # is the name given as first + initial?\n",
      "    if match:\n",
      "        print \"First name:\", match.group(1)\n",
      "        return\n",
      "    \n",
      "    match = re.search(r\"\\S\\.\\s(\\S+)\", first_and_initial) # is the name given as initial + first?\n",
      "    if match:\n",
      "        print \"First name:\", match.group(1)\n",
      "        return\n",
      "    \n",
      "    # no initial given\n",
      "    print \"First name:\", first_and_initial\n",
      "\n",
      "extract_first_name(\"John Smith\")\n",
      "extract_first_name(\"Miller, Jack\")\n",
      "extract_first_name(\"Susie R. Benner\")\n",
      "extract_first_name(\"Smith, April B.\")\n",
      "extract_first_name(\"Miller, R. Ben\")\n",
      "extract_first_name(\"A. Jane Doe\")"
     ],
     "language": "python",
     "metadata": {},
     "outputs": [
      {
       "output_type": "stream",
       "stream": "stdout",
       "text": [
        "First name: John\n",
        "First name: Jack\n",
        "First name: Susie\n",
        "First name: April\n",
        "First name: Ben\n",
        "First name: Jane\n"
       ]
      }
     ],
     "prompt_number": 4
    }
   ],
   "metadata": {}
  }
 ]
}
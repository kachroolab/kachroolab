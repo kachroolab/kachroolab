{
 "metadata": {
  "name": "",
  "signature": "sha256:94869bf8d0eacc52f60d31981411e73aa552857cb7ca80b98f7fa98eafa53379"
 },
 "nbformat": 3,
 "nbformat_minor": 0,
 "worksheets": [
  {
   "cells": [
    {
     "cell_type": "heading",
     "level": 1,
     "metadata": {},
     "source": [
      "Class 23: Using regular expressions to analyze data"
     ]
    },
    {
     "cell_type": "markdown",
     "metadata": {},
     "source": [
      "In this class, we will discuss a few more real-world scenarios of how we can use regular expressions to analyze data. We will continue to work with the *E. coli* genome, as before. Thus, as before, we first download it:"
     ]
    },
    {
     "cell_type": "code",
     "collapsed": false,
     "input": [
      "from Bio import Entrez\n",
      "Entrez.email = \"wilke@austin.utexas.edu\" # put your email here\n",
      "\n",
      "# Download E. coli K12 genome:\n",
      "download_handle = Entrez.efetch(db=\"nucleotide\", id=\"CP009685\", rettype=\"gb\", retmode=\"text\")\n",
      "data = download_handle.read()\n",
      "download_handle.close()\n",
      "\n",
      "# Store data into file \"Ecoli_K12.gb\":\n",
      "out_handle = open(\"Ecoli_K12.gb\", \"w\")\n",
      "out_handle.write(data)\n",
      "out_handle.close()"
     ],
     "language": "python",
     "metadata": {},
     "outputs": [],
     "prompt_number": 1
    },
    {
     "cell_type": "markdown",
     "metadata": {},
     "source": [
      "Now we'll go straight to the exercises."
     ]
    },
    {
     "cell_type": "markdown",
     "metadata": {},
     "source": [
      "## Exercise 1\n",
      "\n",
      "Enzymes typically have names that end in \"ase\". For the first 100 protein-coding sequences in *E. coli*, find how many are enzymes, and print out what enzymes they are.\n",
      "\n",
      "Hint: Use the code from Exercise 2, class 21 (available [here](http://wilkelab.org/classes/SDS348/2015_spring_worksheets/class21_solutions.html)) as your starting point."
     ]
    },
    {
     "cell_type": "code",
     "collapsed": false,
     "input": [
      "# your code goes here"
     ],
     "language": "python",
     "metadata": {},
     "outputs": [],
     "prompt_number": 1
    },
    {
     "cell_type": "markdown",
     "metadata": {},
     "source": [
      "## Exercise 2\n",
      "\n",
      "Transcriptional regulators can belong to different families. They are generally annotated in the `product` field accordingly, e.g. \"LysR family transcriptional regulator\" or \"AraC family transcriptional regulator\". Write a script that extracts the family name for each transcriptional regulator and then counts how many regulators for each family are found."
     ]
    },
    {
     "cell_type": "code",
     "collapsed": false,
     "input": [
      "# your code goes here"
     ],
     "language": "python",
     "metadata": {},
     "outputs": [],
     "prompt_number": 2
    },
    {
     "cell_type": "markdown",
     "metadata": {},
     "source": [
      "## If this was easy\n",
      "\n",
      "Write a function that takes a string holding a full name as input and that prints the first name as output. The function should be able to handle the following cases:\n",
      "- first last\n",
      "- first initial last\n",
      "- initial first last\n",
      "- last, first\n",
      "- last, first initial\n",
      "- last, initial first\n",
      "\n",
      "In all cases, the output should be \"first\". Assume that initials are given as one letter and a period.\n",
      "\n",
      "Hint: First separate the last name from first + initial, and then extract the first name from first + initial."
     ]
    },
    {
     "cell_type": "code",
     "collapsed": false,
     "input": [
      "import re\n",
      "\n",
      "def extract_first_name(name):\n",
      "    # complete this function\n",
      "    return\n",
      "\n",
      "\n",
      "extract_first_name(\"John Smith\")\n",
      "extract_first_name(\"Miller, Jack\")\n",
      "extract_first_name(\"Susie R. Benner\")\n",
      "extract_first_name(\"Smith, April B.\")\n",
      "extract_first_name(\"Miller, R. Ben\")\n",
      "extract_first_name(\"A. Jane Doe\")"
     ],
     "language": "python",
     "metadata": {},
     "outputs": [],
     "prompt_number": 3
    }
   ],
   "metadata": {}
  }
 ]
}
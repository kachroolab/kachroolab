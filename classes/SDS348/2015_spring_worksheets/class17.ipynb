{
 "metadata": {
  "name": "",
  "signature": "sha256:1c61ed32e7ec8eb03f72e4999e6c419d652630636304e90f2fadfce761a73383"
 },
 "nbformat": 3,
 "nbformat_minor": 0,
 "worksheets": [
  {
   "cells": [
    {
     "cell_type": "markdown",
     "metadata": {},
     "source": [
      "# Class 17: Python control flow\n",
      "<br><br>"
     ]
    },
    {
     "cell_type": "markdown",
     "metadata": {},
     "source": [
      "## If statements"
     ]
    },
    {
     "cell_type": "markdown",
     "metadata": {},
     "source": [
      "**Question 1.**\n",
      "Write an if/elif.../else construct to determine the type of the variable **`a`**, defined below. \n",
      "\n",
      "Your code should evaluate if the variable is one of the following types: integer (int), float (float), string (str), or list (list). Your code should print a sentence stating the variable type (e.g. \"89.44 is a float\")."
     ]
    },
    {
     "cell_type": "code",
     "collapsed": false,
     "input": [
      "a = 89.44\n",
      "\n",
      "# Code for question 1 goes here."
     ],
     "language": "python",
     "metadata": {},
     "outputs": [],
     "prompt_number": 10
    },
    {
     "cell_type": "markdown",
     "metadata": {},
     "source": [
      "<br>\n",
      "**Question 2.** \n",
      "  \n",
      "  a) Define a numeric variable (either float or integer is ok). Use an *if/else* statement to determine if the number is greater than zero. Your code should print a sentence indicating if the number is greater than zero or not.\n",
      "  \n",
      "  b) Modify your if/else statement to write an *if/elif/else* statement to determine if the number is greater than, less than, or equal to zero. Again, print a sentence indicating the number's value relative to 0."
     ]
    },
    {
     "cell_type": "code",
     "collapsed": false,
     "input": [
      "# Code for question 2 goes here."
     ],
     "language": "python",
     "metadata": {},
     "outputs": [],
     "prompt_number": 11
    },
    {
     "cell_type": "markdown",
     "metadata": {},
     "source": [
      "<br>\n",
      "**Question 3.**\n",
      "\n",
      "  a) Write an if/else statement to test the single condition, whether the length of the list **`b`** (defined below) is less than or equal to 10. If this condition is *true*, use indexing to create a new list called **`new_b`** that contains the first three numbers in **`b`**.\n",
      "  If this condition is *false*, use indexing to create a new list called **`new_b`** that contains the first 7 numbers in the list.\n",
      "  Once **`new_b`** is defined, determine and print its sum (hint: use the function `sum()`).\n",
      " \n",
      "  b) Use an if/else statement to determine if the sum is even or odd. Print your result. (Hint: use the modulus operator `%` to test even vs. odd.)"
     ]
    },
    {
     "cell_type": "code",
     "collapsed": false,
     "input": [
      "b = [19, 3, 2, 88, 56, 57, 11, 19, 9, 95]\n",
      "\n",
      "# Code for question 3 goes here."
     ],
     "language": "python",
     "metadata": {},
     "outputs": [],
     "prompt_number": 12
    },
    {
     "cell_type": "markdown",
     "metadata": {},
     "source": [
      "<br><br>\n",
      "## For loops"
     ]
    },
    {
     "cell_type": "markdown",
     "metadata": {},
     "source": [
      "**Question 1.**\n",
      "\n",
      "a) Write a for loop that iterates over the numbers 0-10 (including 10!). On each iteration, print 2 raised to that iteration count. For example, when the loop variable equals 3, your code should print 8. \n",
      "\n",
      "b) Modify your code from part (a) to save each of those power-of-2 values to a list called `powers` (hint: use the `.append()` method). Print the final `powers` list."
     ]
    },
    {
     "cell_type": "code",
     "collapsed": false,
     "input": [
      "# Code for question 1 goes here."
     ],
     "language": "python",
     "metadata": {},
     "outputs": [],
     "prompt_number": 13
    },
    {
     "cell_type": "markdown",
     "metadata": {},
     "source": [
      "<br>\n",
      "**Question 2.**\n",
      "\n",
      "Loop over the dictionary `d`, defined below. For each key, determine if it contains the letter \"o\". If this condition is true, print the *value* from `d` associated with that key. Otherwise, print the statement \"Sorry, no o in the key XXX\" where XXX is the name of the key.\n"
     ]
    },
    {
     "cell_type": "code",
     "collapsed": false,
     "input": [
      "d = {\"frog\":\"amphibian\", \"crocodile\":\"reptile\",\"osprey\":\"bird\", \"platypus\":\"mammal\", \"squid\":\"mollusk\", \"spider\":\"arachnid\", \"jellyfish\":\"cnidarian\", \"clownfish\":\"fish\"}\n",
      "\n",
      "# Code for question 2 goes here."
     ],
     "language": "python",
     "metadata": {},
     "outputs": [],
     "prompt_number": 14
    },
    {
     "cell_type": "markdown",
     "metadata": {},
     "source": [
      "<br>\n",
      "**Question 3.**\n",
      "\n",
      "a) Two variables are defined in the first question 3 code chunk below: the string `protseq`, which contains a sequence of amino acids, and the dictionary `amino_weights`, which gives the molecular weight for each amino acid. Write a for loop to determine the total molecular weight of `protseq`. Print the total weight.\n",
      "\n",
      "b) A variable called `protseq_ambig` is defined in the second question 3 code chunk. Unlike the first `protseq` variable, this amino acid sequence contains ambiguous amino-acid characters, including X, B, and Z, which are *not* in the amino_weights dictionary. Determine and print the molecular weight of this sequence."
     ]
    },
    {
     "cell_type": "code",
     "collapsed": false,
     "input": [
      "protseq = \"RTAHHCPLKLLAWS\"\n",
      "amino_weights = {'A':89.09,'R':174.20,'N':132.12,'D':133.10,'C':121.15,'Q':146.15,'E':147.13,'G':75.07,'H':155.16,'I':131.17,'L':131.17,'K':146.19,'M':149.21,'F':165.19,'P':115.13,'S':105.09,'T':119.12,'W':204.23,'Y':181.19,'V':117.15}\n",
      "\n",
      "# Code for question 3a goes here"
     ],
     "language": "python",
     "metadata": {},
     "outputs": [],
     "prompt_number": 15
    },
    {
     "cell_type": "code",
     "collapsed": false,
     "input": [
      "protseq_ambig = \"TAGHHABAAXARBYEDEEZKMBPXQ\"\n",
      "\n",
      "# Code for question 3b goes here"
     ],
     "language": "python",
     "metadata": {},
     "outputs": [],
     "prompt_number": 16
    }
   ],
   "metadata": {}
  }
 ]
}
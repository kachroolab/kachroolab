{
 "metadata": {
  "name": "",
  "signature": "sha256:a0951e6437f075a59d5d83ce3655f69f7aa4f34d8adda67135d9fb040647e8e7"
 },
 "nbformat": 3,
 "nbformat_minor": 0,
 "worksheets": [
  {
   "cells": [
    {
     "cell_type": "heading",
     "level": 4,
     "metadata": {},
     "source": [
      "Complete the following tasks in python. You may do them either from the ipython command line (qt-console) or by creating code chunks within this iPython document. Be sure to use plenty of print statements to make sure that your code is performing as you expect!!\n",
      "<br><br><br>"
     ]
    },
    {
     "cell_type": "markdown",
     "metadata": {},
     "source": [
      "**Working with strings**\n",
      "\n",
      "Define a variable called `mystring`, which contains a lengthy string of some kind (random letters, your address, song lyrics, a haiku, whatever). Perform the following tasks with this variable:\n",
      "\n",
      " 1. Without redefining `mystring`, replace the all occurrences of a letter of your choice with the number 6. Use a single string method for this task. \n",
      " 2. *Redefine* `mystring` such that only the first 3 occurrences of this letter are replaced. Use a single string method for this task. \n",
      " 3. Use indexing to replace the character in the 5th position of `mystring` with the letter \"X\". How did that go? \n",
      " 4.  Use the `.split()` method to split your string into a list. Do this twice, the first time using a character that *is* in your string and the second time using a character that is *not present* in your string. Think about why the resulting output looks the way it does.\n",
      " 5. Create a new variable called `complete_string` which contains the phrase \"Here is my string: \" followed by the contents of your `mystring` variable. (Hint - use the `+` operator). For example, if your `mystring` variable contains the text \"time flies like an arrow; fruit flies like a banana\", then `complete_string` should read, \"Here is my string: time flies like an arrow; fruit flies like a banana\"."
     ]
    },
    {
     "cell_type": "code",
     "collapsed": false,
     "input": [
      "# Code for \"working with strings\" goes here. Create a separate code chunk for each question using the + icon in the toolbar."
     ],
     "language": "python",
     "metadata": {},
     "outputs": [],
     "prompt_number": 6
    },
    {
     "cell_type": "markdown",
     "metadata": {},
     "source": [
      "<br><br>\n",
      "**Working with lists**\n",
      "\n",
      "Define a list variable called `animals` which contains the following 6 entries: \"monkey\", \"giraffe\", \"shark\", \"caterpillar\", \"squid\", and \"jellyfish\". Perform the following tasks with this variable:\n",
      "\n",
      " 1. Use the list method `.append()` to add \"spider\" to the end of the list.\n",
      " 2. Use the list method `.insert()` to add \"ctenophore\" to the end of the list. Try to incorporate the `len()` function as part of this code.\n",
      " 3. Use the list method `.append()` to add another \"monkey\" to the end of the list. Next, use the list method `.index()` to remove determine in which list position \"monkey\" is. What does your answer tell you about the behavior of the `.index()` method? \n",
      " 4. Use indexing to change the 2nd animal in the list to \"cat\". \n",
      " 5. Use the operator `in` to determine if \"dog\" is in the `animals` list.\n",
      " 5. Enter the command `help(join)` (or google the phrase \"python join\") to read about this string method. The string method `.join()` takes a single argument, a list of strings, and joins them together using the string on which join acts as a separator. It is, in effect, the *opposite* of the string method `.split()`. Use the `.join()` method to create a string which contains each animal in the `animals` list separated by the string \"; \" (semicolon and a space).\n",
      " 6. Create a second list called `plants` which contains the entries \"tree\", \"flower\", \"bush\", and \"grass\". Next, create another list called `organisms`, in which the first entry is the `animals` list and the second entry is the `plants` list. This is a \"list of lists\" (nested list). Use the `len()` function to determine the size of the `organisms` list. Is it what you expected? Why or why not?\n",
      " 7. Now, from this nested list, use indexing to create yet another list which contains *two* entries: the third entry from the `animals` list within `organisms` and the second entry from the `plants` list within `organisms`.\n",
      "  "
     ]
    },
    {
     "cell_type": "code",
     "collapsed": false,
     "input": [
      "# Code for \"working with lists\" goes here. Create a separate code chunk for each question using the + icon in the toolbar."
     ],
     "language": "python",
     "metadata": {},
     "outputs": [],
     "prompt_number": 1
    },
    {
     "cell_type": "markdown",
     "metadata": {},
     "source": [
      "<br><br>\n",
      "**Working with dictionaries**\n",
      "\n",
      " Create a dictionary called `molecules` with the following three key-value pairs: \"DNA\" - \"nucleotides\"; \"protein\" - \"amino acids\"; and \"hair\" -\"keratin\". Perform the following tasks with this variable:\n",
      " \n",
      " 1. Print out the dictionary and examine the order of the key-value pairs. Is this what you expected? \n",
      " 2. Use indexing to select the 2nd key-value pair from the dictionary. Did this work? Now try to index the value for \"DNA\".\n",
      " 3. Create two lists, called `molecules_keys` and `molecules_values`, containing, respectively, the keys and values in this dictionary. **Do not** manually create these lists; instead, use the dictionary methods `.keys()` and `.values()` to create them.\n",
      " 4. Using your two new lists, create a list of *tuples*, which in each tuple is the (key, value) pair. Use the `zip()` function for this (you may need to look this function up!). Save this list of tuples to a variable. Use the function `type()` in conjuction with the logical operator `is` (or `==`) to confirm that this indeed created a list, and that the first entry in the list is indeed a tuple.\n",
      " 5. Now, re-cast the list of tuples into a dictionary.\n",
      " 6. Add another key-value pair, \"ribosomes\"-\"RNA\", to the `molecules` dictionary. Now, add another key-value pair, \"RNA\" - \"nucleotides\". Did this work? What does this tell you about the \"allowed uniqueness\" for dictionary keys and values? Now, add yet another key-value pair, \"ribosomes\"-\"rRNA\" to the `molecules` dictionary. What happened? Can you see why? \n",
      "\n"
     ]
    },
    {
     "cell_type": "code",
     "collapsed": false,
     "input": [
      "# Code for \"working with dictionaries\" goes here. Create a separate code chunk for each question using the + icon in the toolbar."
     ],
     "language": "python",
     "metadata": {},
     "outputs": [],
     "prompt_number": 2
    }
   ],
   "metadata": {}
  }
 ]
}
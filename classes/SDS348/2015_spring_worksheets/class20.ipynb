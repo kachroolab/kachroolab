{
 "metadata": {
  "name": "",
  "signature": "sha256:c481bff45838a3c4d3ec1f17d5c08bca18ceba780f0ce4a70b9353afd89d7af2"
 },
 "nbformat": 3,
 "nbformat_minor": 0,
 "worksheets": [
  {
   "cells": [
    {
     "cell_type": "heading",
     "level": 1,
     "metadata": {},
     "source": [
      "Class 20: More Biopython"
     ]
    },
    {
     "cell_type": "markdown",
     "metadata": {},
     "source": [
      "In the previous class we discussed how to download specific records from `Entrez`. In addition to just downloading records, however, we can also run searches directly from python. Any query that you can do on the `Entrez` website (http://www.ncbi.nlm.nih.gov/pubmed) can also be executed directly from python. This allows you to find a large number of records all at once and process them in an automated fashion.\n",
      "\n",
      "For example, below we will see how to automatically run and retrieve the results for this search:  \n",
      "http://www.ncbi.nlm.nih.gov/nuccore/?term=influenza+a+virus+texas+h1n1+hemagglutinin+complete+cds"
     ]
    },
    {
     "cell_type": "code",
     "collapsed": false,
     "input": [
      "from Bio import Entrez, SeqIO\n",
      "Entrez.email = \"wilke@austin.utexas.edu\" # put your email here\n",
      "\n",
      "# let's do a search for influenza H1N1 viruses from Texas\n",
      "handle = Entrez.esearch(db=\"nucleotide\",  # database to search\n",
      "                        term=\"influenza a virus texas h1n1 hemagglutinin complete cds\",  # search term\n",
      "                        retmax=10  # number of results that are returned\n",
      "                        )\n",
      "record = Entrez.read(handle)\n",
      "handle.close()\n",
      "\n",
      "gi_list = record[\"IdList\"] # list of genbank identifiers found\n",
      "print gi_list"
     ],
     "language": "python",
     "metadata": {},
     "outputs": [
      {
       "output_type": "stream",
       "stream": "stdout",
       "text": [
        "['676287366', '676287270', '676287128', '676287065', '676286968', '676286391', '676286319', '676286050', '676285644', '676285467']\n"
       ]
      }
     ],
     "prompt_number": 1
    },
    {
     "cell_type": "markdown",
     "metadata": {},
     "source": [
      "We can now download all the genbank records in this list, using the `efetch()` function:"
     ]
    },
    {
     "cell_type": "code",
     "collapsed": false,
     "input": [
      "handle = Entrez.efetch(db=\"nucleotide\", id=gi_list, rettype=\"gb\", retmode=\"text\")\n",
      "records = SeqIO.parse(handle, \"genbank\")\n",
      "\n",
      "for record in records:\n",
      "    print record.description\n",
      "    \n",
      "handle.close() # important, close the handle only after you have iterated over the records. Otherwise you will get an error!"
     ],
     "language": "python",
     "metadata": {},
     "outputs": [
      {
       "output_type": "stream",
       "stream": "stdout",
       "text": [
        "Influenza A virus (A/Texas/16/2014(H1N1)) segment 4 hemagglutinin (HA) gene, complete cds.\n",
        "Influenza A virus (A/Texas/02/2014(H1N1)) segment 4 hemagglutinin (HA) gene, complete cds."
       ]
      },
      {
       "output_type": "stream",
       "stream": "stdout",
       "text": [
        "\n",
        "Influenza A virus (A/Texas/96/2013(H1N1)) segment 4 hemagglutinin (HA) gene, complete cds.\n",
        "Influenza A virus (A/Texas/82/2013(H1N1)) segment 4 hemagglutinin (HA) gene, complete cds."
       ]
      },
      {
       "output_type": "stream",
       "stream": "stdout",
       "text": [
        "\n",
        "Influenza A virus (A/Texas/42/2013(H1N1)) segment 4 hemagglutinin (HA) gene, complete cds."
       ]
      },
      {
       "output_type": "stream",
       "stream": "stdout",
       "text": [
        "\n",
        "Influenza A virus (A/Texas/117/2013(H1N1)) segment 4 hemagglutinin (HA) gene, complete cds."
       ]
      },
      {
       "output_type": "stream",
       "stream": "stdout",
       "text": [
        "\n",
        "Influenza A virus (A/Texas/08/2014(H1N1)) segment 4 hemagglutinin (HA) gene, complete cds.\n",
        "Influenza A virus (A/Texas/12/2014(H1N1)) segment 4 hemagglutinin (HA) gene, complete cds."
       ]
      },
      {
       "output_type": "stream",
       "stream": "stdout",
       "text": [
        "\n",
        "Influenza A virus (A/Texas/07/2014(H1N1)) segment 4 hemagglutinin (HA) gene, complete cds."
       ]
      },
      {
       "output_type": "stream",
       "stream": "stdout",
       "text": [
        "\n",
        "Influenza A virus (A/Texas/36/2013(H1N1)) segment 4 hemagglutinin (HA) gene, complete cds.\n"
       ]
      }
     ],
     "prompt_number": 2
    },
    {
     "cell_type": "markdown",
     "metadata": {},
     "source": [
      "## Exercise 1:\n",
      "\n",
      "The above example downloaded the sequence data and directly parsed it into sequence records. In practice, we would normally want to store the downloaded data in a file first, because we may want to do multiple analyses with the same data and don't want to download the data over and over.\n",
      "\n",
      "In the above code, you can use `handle.read()` to store the downloaded data in a python variable. You can then use the `open()` function to create an output file handle and use the `write()` function to store the data into that file. Name your file `influenza_HA.gb`. A good introduction to python file operations is available [here.](http://www.pythonforbeginners.com/files/reading-and-writing-files-in-python)\n",
      "\n",
      "Then, read the data back in from the file you have created, and use `SeqIO.parse()` to turn it into a list of records. "
     ]
    },
    {
     "cell_type": "code",
     "collapsed": false,
     "input": [
      "# Your code goes here."
     ],
     "language": "python",
     "metadata": {},
     "outputs": [],
     "prompt_number": 3
    },
    {
     "cell_type": "markdown",
     "metadata": {},
     "source": [
      "## Exercise 2:\n",
      "\n",
      "Write code that downloads the complete genome of bacteriophage T7 and stores it in a file called `T7.gb`. The accession number for that genome is NC_001604. Check in your file system that the file is there and contains the same genome you can see online."
     ]
    },
    {
     "cell_type": "code",
     "collapsed": false,
     "input": [
      "# Your code goes here."
     ],
     "language": "python",
     "metadata": {},
     "outputs": [],
     "prompt_number": 4
    },
    {
     "cell_type": "markdown",
     "metadata": {},
     "source": [
      "## Exercise 3:\n",
      "\n",
      "Now read in the genome, and for each coding sequence (CDS) in that genome print out the name (`locus_tag`), the product (`product`), and the amino-acid sequence (`translation`).\n",
      "\n",
      "Hints:\n",
      "- First you need to parse the genbank file into a record, using `SeqIO.read()`.  \n",
      "(We use `SeqIO.read()` here and not `SeqIO.parse()` because the file contains only one record. `SeqIO.read()` is meant for files with exactly one record, and `SeqIO.parse()` for files that may contain one or more records. See [here](http://biopython.org/wiki/SeqIO) for details.)\n",
      "- All gene annotations are stored as features, and `record.features` gives you a list of all these features.\n",
      "Sequence features are explained [here.](http://biopython.org/DIST/docs/tutorial/Tutorial.html#htoc38)\n",
      "- Each feature has a type, accessible through `feature.type`. We are only interested in features of type \"CDS\".\n",
      "- The actual annotations we are interested in, such as `locus_tag`, `product`, etc., are stored in the dictionary `feature.qualifiers`."
     ]
    },
    {
     "cell_type": "code",
     "collapsed": false,
     "input": [
      "# Your code goes here."
     ],
     "language": "python",
     "metadata": {},
     "outputs": [],
     "prompt_number": 5
    },
    {
     "cell_type": "markdown",
     "metadata": {},
     "source": [
      "## If this was easy\n",
      "\n",
      "For larger searches, NCBI wants you to use the WebEnv method to download all your search results. This is explained in the Biopython tutorial [here.](http://biopython.org/DIST/docs/tutorial/Tutorial.html#sec:entrez-webenv) Rewrite the influenza search from the beginning of the document but this time download all records using the WebEnv method."
     ]
    },
    {
     "cell_type": "code",
     "collapsed": false,
     "input": [
      "# Your code goes here."
     ],
     "language": "python",
     "metadata": {},
     "outputs": [],
     "prompt_number": 6
    }
   ],
   "metadata": {}
  }
 ]
}
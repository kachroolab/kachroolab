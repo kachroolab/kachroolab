{
 "metadata": {
  "name": "",
  "signature": "sha256:1159e05201f94e083c624810d2e0b608393ed63d6ef9f8eb5cac7a96be2902a1"
 },
 "nbformat": 3,
 "nbformat_minor": 0,
 "worksheets": [
  {
   "cells": [
    {
     "cell_type": "heading",
     "level": 1,
     "metadata": {},
     "source": [
      "Class 19: Introduction to Biopython"
     ]
    },
    {
     "cell_type": "markdown",
     "metadata": {},
     "source": [
      "[Biopython](http://biopython.org) consists of a large set of helpful functions and tools to solve frequently encountered problems in computational biology. In particular, it has excellent functionality to download and analyze sequence data. It also has a useful module for carrying out analysis of protein structure.\n",
      "\n",
      "Here, we will start by doing some basic sequence analysis. We will use the biopython modules `Entrez` and `SeqIO`:"
     ]
    },
    {
     "cell_type": "code",
     "collapsed": false,
     "input": [
      "from Bio import Entrez, SeqIO"
     ],
     "language": "python",
     "metadata": {},
     "outputs": [],
     "prompt_number": 1
    },
    {
     "cell_type": "markdown",
     "metadata": {},
     "source": [
      "`Entrez` provides a computational interface to the widely-use entrez online database provided by the National Institutes of Health: http://www.ncbi.nlm.nih.gov/pubmed You can find almost any information of interest in biological research on this database.\n",
      "\n",
      "As an example, let's look at the gene of a recent influenza virus. Specifically, we look at hemagglutinin (HA) from a 2009 swine-flu strain. It is listed by ID number `FJ966082.1`, and it can be found online here: http://www.ncbi.nlm.nih.gov/nuccore/FJ966082.1\n",
      "\n",
      "We can download this record directly from python using the following Biopython code:"
     ]
    },
    {
     "cell_type": "code",
     "collapsed": false,
     "input": [
      "Entrez.email = \"wilke@austin.utexas.edu\" # put your email here\n",
      "\n",
      "# download sequence record for genbank id FJ966082.1 (HA gene of Influenza A virus, strain A/California/04/2009(H1N1))\n",
      "handle = Entrez.efetch(db=\"nucleotide\", id=\"FJ966082.1\", rettype=\"gb\", retmode=\"text\")\n",
      "record = SeqIO.read(handle, \"genbank\")\n",
      "handle.close()\n",
      "\n",
      "# the sequence record is now stored in the variable `record` and we can print it to see what it contains \n",
      "print record"
     ],
     "language": "python",
     "metadata": {},
     "outputs": [
      {
       "output_type": "stream",
       "stream": "stdout",
       "text": [
        "ID: FJ966082.1\n",
        "Name: FJ966082\n",
        "Description: Influenza A virus (A/California/04/2009(H1N1)) segment 4 hemagglutinin (HA) gene, complete cds.\n",
        "Database cross-references: BioProject:PRJNA37813\n",
        "Number of features: 6\n",
        "/comment=GenBank Accession Numbers FJ966079-FJ966086 represent sequences\n",
        "from the 8 segments of Influenza A virus\n",
        "(A/California/04/2009(H1N1)).\n",
        "Swine influenza A (H1N1) virus isolated during human swine flu\n",
        "outbreak of 2009.  For more information, see http://www.cdc.gov/.\n",
        "Some of the information does not have GenBank feature identifiers\n",
        "and is being provided in the comment section.\n",
        "##FluData-START##\n",
        "Isolate                :: A/California/04/2009\n",
        "Subtype                :: H1N1\n",
        "Host_gender            :: M\n",
        "Host_age               :: 10\n",
        "Passage_history        :: CX\n",
        "Adamantane_resistance  :: resistant\n",
        "Zanamivir_resistance   :: sensitive\n",
        "Oseltamivir_resistance :: sensitive\n",
        "Country                :: USA\n",
        "State/Province         :: California\n",
        "Collection_day         :: 1\n",
        "Collection_month       :: 4\n",
        "Collection_year        :: 2009\n",
        "EPI_isolate            :: GISAID EPI_ISL_29573\n",
        "EPI_accession          :: EPI176470\n",
        "##FluData-END##\n",
        "/sequence_version=1\n",
        "/source=Influenza A virus (A/California/04/2009(H1N1))\n",
        "/taxonomy=['Viruses', 'ssRNA negative-strand viruses', 'Orthomyxoviridae', 'Influenzavirus A']\n",
        "/keywords=['']\n",
        "/references=[Reference(title='Emergence of a novel swine-origin influenza A (H1N1) virus in humans', ...), Reference(title='Antigenic and genetic characteristics of swine-origin 2009 A(H1N1) influenza viruses circulating in humans', ...), Reference(title='Direct Submission', ...)]\n",
        "/accessions=['FJ966082']\n",
        "/data_file_division=VRL\n",
        "/date=02-SEP-2010\n",
        "/organism=Influenza A virus (A/California/04/2009(H1N1))\n",
        "/gi=227809829\n",
        "Seq('ATGAAGGCAATACTAGTAGTTCTGCTATATACATTTGCAACCGCAAATGCAGAC...TAA', IUPACAmbiguousDNA())\n"
       ]
      }
     ],
     "prompt_number": 2
    },
    {
     "cell_type": "markdown",
     "metadata": {},
     "source": [
      "Since the record is a simple python object, we can access elements of it as usual:"
     ]
    },
    {
     "cell_type": "code",
     "collapsed": false,
     "input": [
      "print \"- ID of the record:\"\n",
      "print record.id\n",
      "\n",
      "print \"\\n- Brief description of the record:\"\n",
      "print record.description\n",
      "\n",
      "print \"\\n- Annotations that come with the record (given as a python dictionary):\"\n",
      "print record.annotations\n",
      "\n",
      "print \"\\n- The sequence in this record:\"\n",
      "print record.seq"
     ],
     "language": "python",
     "metadata": {},
     "outputs": [
      {
       "output_type": "stream",
       "stream": "stdout",
       "text": [
        "- ID of the record:\n",
        "FJ966082.1\n",
        "\n",
        "- Brief description of the record:\n",
        "Influenza A virus (A/California/04/2009(H1N1)) segment 4 hemagglutinin (HA) gene, complete cds.\n",
        "\n",
        "- Annotations that come with the record (given as a python dictionary):\n",
        "{'comment': 'GenBank Accession Numbers FJ966079-FJ966086 represent sequences\\nfrom the 8 segments of Influenza A virus\\n(A/California/04/2009(H1N1)).\\nSwine influenza A (H1N1) virus isolated during human swine flu\\noutbreak of 2009.  For more information, see http://www.cdc.gov/.\\nSome of the information does not have GenBank feature identifiers\\nand is being provided in the comment section.\\n##FluData-START##\\nIsolate                :: A/California/04/2009\\nSubtype                :: H1N1\\nHost_gender            :: M\\nHost_age               :: 10\\nPassage_history        :: CX\\nAdamantane_resistance  :: resistant\\nZanamivir_resistance   :: sensitive\\nOseltamivir_resistance :: sensitive\\nCountry                :: USA\\nState/Province         :: California\\nCollection_day         :: 1\\nCollection_month       :: 4\\nCollection_year        :: 2009\\nEPI_isolate            :: GISAID EPI_ISL_29573\\nEPI_accession          :: EPI176470\\n##FluData-END##', 'sequence_version': 1, 'source': 'Influenza A virus (A/California/04/2009(H1N1))', 'taxonomy': ['Viruses', 'ssRNA negative-strand viruses', 'Orthomyxoviridae', 'Influenzavirus A'], 'keywords': [''], 'references': [Reference(title='Emergence of a novel swine-origin influenza A (H1N1) virus in humans', ...), Reference(title='Antigenic and genetic characteristics of swine-origin 2009 A(H1N1) influenza viruses circulating in humans', ...), Reference(title='Direct Submission', ...)], 'accessions': ['FJ966082'], 'data_file_division': 'VRL', 'date': '02-SEP-2010', 'organism': 'Influenza A virus (A/California/04/2009(H1N1))', 'gi': '227809829'}\n",
        "\n",
        "- The sequence in this record:\n",
        "ATGAAGGCAATACTAGTAGTTCTGCTATATACATTTGCAACCGCAAATGCAGACACATTATGTATAGGTTATCATGCGAACAATTCAACAGACACTGTAGACACAGTACTAGAAAAGAATGTAACAGTAACACACTCTGTTAACCTTCTAGAAGACAAGCATAACGGGAAACTATGCAAACTAAGAGGGGTAGCCCCATTGCATTTGGGTAAATGTAACATTGCTGGCTGGATCCTGGGAAATCCAGAGTGTGAATCACTCTCCACAGCAAGCTCATGGTCCTACATTGTGGAAACACCTAGTTCAGACAATGGAACGTGTTACCCAGGAGATTTCATCGATTATGAGGAGCTAAGAGAGCAATTGAGCTCAGTGTCATCATTTGAAAGGTTTGAGATATTCCCCAAGACAAGTTCATGGCCCAATCATGACTCGAACAAAGGTGTAACGGCAGCATGTCCTCATGCTGGAGCAAAAAGCTTCTACAAAAATTTAATATGGCTAGTTAAAAAAGGAAATTCATACCCAAAGCTCAGCAAATCCTACATTAATGATAAAGGGAAAGAAGTCCTCGTGCTATGGGGCATTCACCATCCATCTACTAGTGCTGACCAACAAAGTCTCTATCAGAATGCAGATACATATGTTTTTGTGGGGTCATCAAGATACAGCAAGAAGTTCAAGCCGGAAATAGCAATAAGACCCAAAGTGAGGGATCAAGAAGGGAGAATGAACTATTACTGGACACTAGTAGAGCCGGGAGACAAAATAACATTCGAAGCAACTGGAAATCTAGTGGTACCGAGATATGCATTCGCAATGGAAAGAAATGCTGGATCTGGTATTATCATTTCAGATACACCAGTCCACGATTGCAATACAACTTGTCAAACACCCAAGGGTGCTATAAACACCAGCCTCCCATTTCAGAATATACATCCGATCACAATTGGAAAATGTCCAAAATATGTAAAAAGCACAAAATTGAGACTGGCCACAGGATTGAGGAATATCCCGTCTATTCAATCTAGAGGCCTATTTGGGGCCATTGCCGGTTTCATTGAAGGGGGGTGGACAGGGATGGTAGATGGATGGTACGGTTATCACCATCAAAATGAGCAGGGGTCAGGATATGCAGCCGACCTGAAGAGCACACAGAATGCCATTGACGAGATTACTAACAAAGTAAATTCTGTTATTGAAAAGATGAATACACAGTTCACAGCAGTAGGTAAAGAGTTCAACCACCTGGAAAAAAGAATAGAGAATTTAAATAAAAAAGTTGATGATGGTTTCCTGGACATTTGGACTTACAATGCCGAACTGTTGGTTCTATTGGAAAATGAAAGAACTTTGGACTACCACGATTCAAATGTGAAGAACTTATATGAAAAGGTAAGAAGCCAGCTAAAAAACAATGCCAAGGAAATTGGAAACGGCTGCTTTGAATTTTACCACAAATGCGATAACACGTGCATGGAAAGTGTCAAAAATGGGACTTATGACTACCCAAAATACTCAGAGGAAGCAAAATTAAACAGAGAAGAAATAGATGGGGTAAAGCTGGAATCAACAAGGATTTACCAGATTTTGGCGATCTATTCAACTGTCGCCAGTTCATTGGTACTGGTAGTCTCCCTGGGGGCAATCAGTTTCTGGATGTGCTCTAATGGGTCTCTACAGTGTAGAATATGTATTTAA\n"
       ]
      }
     ],
     "prompt_number": 3
    },
    {
     "cell_type": "markdown",
     "metadata": {},
     "source": [
      "We can also do things like extract the DNA sequence and translate it into a protein sequence:"
     ]
    },
    {
     "cell_type": "code",
     "collapsed": false,
     "input": [
      "# extract the sequence from the record\n",
      "DNA_seq = record.seq\n",
      "\n",
      "# translate into a protein sequence\n",
      "protein_seq = DNA_seq.translate()\n",
      "print protein_seq"
     ],
     "language": "python",
     "metadata": {},
     "outputs": [
      {
       "output_type": "stream",
       "stream": "stdout",
       "text": [
        "MKAILVVLLYTFATANADTLCIGYHANNSTDTVDTVLEKNVTVTHSVNLLEDKHNGKLCKLRGVAPLHLGKCNIAGWILGNPECESLSTASSWSYIVETPSSDNGTCYPGDFIDYEELREQLSSVSSFERFEIFPKTSSWPNHDSNKGVTAACPHAGAKSFYKNLIWLVKKGNSYPKLSKSYINDKGKEVLVLWGIHHPSTSADQQSLYQNADTYVFVGSSRYSKKFKPEIAIRPKVRDQEGRMNYYWTLVEPGDKITFEATGNLVVPRYAFAMERNAGSGIIISDTPVHDCNTTCQTPKGAINTSLPFQNIHPITIGKCPKYVKSTKLRLATGLRNIPSIQSRGLFGAIAGFIEGGWTGMVDGWYGYHHQNEQGSGYAADLKSTQNAIDEITNKVNSVIEKMNTQFTAVGKEFNHLEKRIENLNKKVDDGFLDIWTYNAELLVLLENERTLDYHDSNVKNLYEKVRSQLKNNAKEIGNGCFEFYHKCDNTCMESVKNGTYDYPKYSEEAKLNREEIDGVKLESTRIYQILAIYSTVASSLVLVVSLGAISFWMCSNGSLQCRICI*\n"
       ]
      }
     ],
     "prompt_number": 4
    },
    {
     "cell_type": "markdown",
     "metadata": {},
     "source": [
      "## Exercise 1:\n",
      "\n",
      "Calculate the fraction of As, Cs, Gs, and Ts in the nucleotide sequence. Do this by introducing 4 variables with which you count the occurrences of the four letters in the sequence. "
     ]
    },
    {
     "cell_type": "code",
     "collapsed": false,
     "input": [
      "# code goes here"
     ],
     "language": "python",
     "metadata": {},
     "outputs": [],
     "prompt_number": 5
    },
    {
     "cell_type": "markdown",
     "metadata": {},
     "source": [
      "## Exercise 2:\n",
      "\n",
      "Calculate the number of times each amino acid occurs in the translated protein. You could do this by introducing 20 count variables, one for each possible amino acid. However, it is easier to achieve this task by using a dictionary that maps letters to counts. "
     ]
    },
    {
     "cell_type": "code",
     "collapsed": false,
     "input": [
      "# code goes here."
     ],
     "language": "python",
     "metadata": {},
     "outputs": [],
     "prompt_number": 6
    }
   ],
   "metadata": {}
  }
 ]
}
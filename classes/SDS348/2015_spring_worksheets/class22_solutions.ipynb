{
 "metadata": {
  "name": "",
  "signature": "sha256:ae01928623b6ec9a97c45051590108dc5f802ec34ee571dc8182cf380f4e0a86"
 },
 "nbformat": 3,
 "nbformat_minor": 0,
 "worksheets": [
  {
   "cells": [
    {
     "cell_type": "heading",
     "level": 1,
     "metadata": {},
     "source": [
      "Class 22: Regular expressions"
     ]
    },
    {
     "cell_type": "markdown",
     "metadata": {},
     "source": [
      "Regular expressions are an extremely powerful method of searching and extracting information from strings. A good, basic tutorial is available [here.](https://developers.google.com/edu/python/regular-expressions)\n",
      "\n",
      "In the most-common use case, you have a test string that you test against a regular expression string, using the function `search` from the `re` module: "
     ]
    },
    {
     "cell_type": "code",
     "collapsed": false,
     "input": [
      "import re # we need to import the re module to use it\n",
      "\n",
      "test_string = \"My name is John Doe\"\n",
      "\n",
      "# test whether test_string contains \"name\"\n",
      "match = re.search(r\"name\", test_string) # pay attention to the r in front of the string. this is crucial!\n",
      "\n",
      "if match: # did we find a match?    \n",
      "    print \"Test string matches.\"\n",
      "    print \"Match:\", match.group() # print out the part of the string that matched\n",
      "else:\n",
      "    print \"Test string doesn't match.\""
     ],
     "language": "python",
     "metadata": {},
     "outputs": [
      {
       "output_type": "stream",
       "stream": "stdout",
       "text": [
        "Test string matches.\n",
        "Match: name\n"
       ]
      }
     ],
     "prompt_number": 1
    },
    {
     "cell_type": "code",
     "collapsed": false,
     "input": [
      "test_string = \"My email is john@utexas.edu\"\n",
      "\n",
      "# test whether test_string contains \"name\"\n",
      "match = re.search(r\"name\", test_string)\\\n",
      "\n",
      "if match: # did we find a match?    \n",
      "    print \"Test string matches.\"\n",
      "    print \"Match:\", match.group()\n",
      "else:\n",
      "    print \"Test string doesn't match.\""
     ],
     "language": "python",
     "metadata": {},
     "outputs": [
      {
       "output_type": "stream",
       "stream": "stdout",
       "text": [
        "Test string doesn't match.\n"
       ]
      }
     ],
     "prompt_number": 2
    },
    {
     "cell_type": "markdown",
     "metadata": {},
     "source": [
      "Much of the power of regular expressions stems from the fact that you can match on general patterns. For example, `\\S+` will match an arbitrary number of non-whitespace characters:"
     ]
    },
    {
     "cell_type": "code",
     "collapsed": false,
     "input": [
      "test_string = \"My age is secret.\"\n",
      "match = re.search(r\"My \\S+ is\", test_string)\n",
      "print \"Match:\", match.group()\n",
      "\n",
      "test_string = \"My mood is good.\"\n",
      "match = re.search(r\"My \\S+ is\", test_string)\n",
      "print \"Match:\", match.group()"
     ],
     "language": "python",
     "metadata": {},
     "outputs": [
      {
       "output_type": "stream",
       "stream": "stdout",
       "text": [
        "Match: My age is\n",
        "Match: My mood is\n"
       ]
      }
     ],
     "prompt_number": 3
    },
    {
     "cell_type": "markdown",
     "metadata": {},
     "source": [
      "We can also capture substrings using regular expressions, by encapsulating the parts of interest in parentheses `()`:"
     ]
    },
    {
     "cell_type": "code",
     "collapsed": false,
     "input": [
      "test_string = \"My age is secret.\"\n",
      "match = re.search(r\"My (\\S+) is (\\S+)\", test_string)\n",
      "print \"Match:\", match.group(0)\n",
      "print \"Captured group 1:\" , match.group(1)\n",
      "print \"Captured group 2:\" , match.group(2)"
     ],
     "language": "python",
     "metadata": {},
     "outputs": [
      {
       "output_type": "stream",
       "stream": "stdout",
       "text": [
        "Match: My age is secret.\n",
        "Captured group 1: age\n",
        "Captured group 2: secret.\n"
       ]
      }
     ],
     "prompt_number": 4
    },
    {
     "cell_type": "markdown",
     "metadata": {},
     "source": [
      "## Exercise 1\n",
      "\n",
      "Use the online python regular expression editor available here: [http://pythex.org/](http://pythex.org/) to explore regular expressions. For each of the given test strings, find the regular expressions that achieves the given goals.\n",
      "\n",
      "1\\. Test string: \"`my email is: john@utexas.edu`\"  \n",
      "- Match on: \"`my email is`\"  \n",
      "  Solution: `/my email is/`\n",
      "- Match on any email address  \n",
      "  Solution: `/\\S*@\\S*/`\n",
      "- Match on: \"`@utexas.edu`\"  \n",
      "  Solution: `/@utexas.edu/`\n",
      "- Capture the entire email address  \n",
      "  Solution: `/(\\S*@\\S*)/`\n",
      "- Capture both the part before the @ sign and the part after the @ sign separately  \n",
      "  Solution: `/(\\S*)@(\\S*)/`\n",
      "- Capture the username of any `utexas.edu` email address  \n",
      "  Solution: `/(\\S*)@utexas.edu/`\n",
      "  \n",
      "2\\. Test string: \"`phone number: 123-456-7890`\"\n",
      "- Match on \"`phone number:`\" and capture the phone number  \n",
      "  Solution: `/phone number: (\\S+)/`\n",
      "- Match on any string of the form of a phone number, with three digits, a hyphen, three more digits, another hyphen, and four digits  \n",
      "  Solution: `/\\d\\d\\d-\\d\\d\\d-\\d\\d\\d\\d/  \n",
      "  Or: `/\\d{3}-\\d{3}-\\d{4}/`\n",
      "- Use the same match as before, but now capture the area code  \n",
      "  Solution: `/(\\d{3})-\\d{3}-\\d{4}/`\n",
      "  \n",
      "3\\. Invent a few more problems and solutions on your own."
     ]
    },
    {
     "cell_type": "markdown",
     "metadata": {},
     "source": [
      "## Exercise 2\n",
      "\n",
      "Write python code that can take a string of the form `\"My name is: ...\"`, extract the name (indicated here by `...`), and then print it. Make sure you get the full name, not just the first name."
     ]
    },
    {
     "cell_type": "code",
     "collapsed": false,
     "input": [
      "test_string = \"My name is: John Doe\"\n",
      "\n",
      "match = re.search(r'My name is: (.*)', test_string)\n",
      "if match:\n",
      "    print match.group(1)"
     ],
     "language": "python",
     "metadata": {},
     "outputs": [
      {
       "output_type": "stream",
       "stream": "stdout",
       "text": [
        "John Doe\n"
       ]
      }
     ],
     "prompt_number": 5
    },
    {
     "cell_type": "markdown",
     "metadata": {},
     "source": [
      "## If this was easy\n",
      "\n",
      "Write a function that can parse phone numbers in any sort of format and print them out in the standard 123-456-7890 format."
     ]
    },
    {
     "cell_type": "code",
     "collapsed": false,
     "input": [
      "def clean_phone_number(input):\n",
      "    match = re.search(r'(\\d{3})\\D*(\\d{3})\\D*(\\d{4})', input)\n",
      "    if match:\n",
      "        print \"%s-%s-%s\" % (match.group(1), match.group(2), match.group(3))\n",
      "\n",
      "clean_phone_number(\"1234567890\")\n",
      "clean_phone_number(\"+1 (123) 456-7890\")\n",
      "clean_phone_number(\"1 123 456 7890\")\n",
      "clean_phone_number(\"(123) 4567890\")\n"
     ],
     "language": "python",
     "metadata": {},
     "outputs": [
      {
       "output_type": "stream",
       "stream": "stdout",
       "text": [
        "123-456-7890\n",
        "123-456-7890\n",
        "123-456-7890\n",
        "123-456-7890\n"
       ]
      }
     ],
     "prompt_number": 6
    }
   ],
   "metadata": {}
  }
 ]
}
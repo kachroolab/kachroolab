{
 "cells": [
  {
   "cell_type": "markdown",
   "metadata": {},
   "source": [
    "# Class 24: Using regular expressions to analyze data\n",
    "**April 13, 2017**"
   ]
  },
  {
   "cell_type": "markdown",
   "metadata": {},
   "source": [
    "In this class, we will continue discuss a few more real-world scenarios of how we can use regular expressions to analyze data. We will also encounter some other useful methods and techniques, such as reading a file directly from the internet."
   ]
  },
  {
   "cell_type": "markdown",
   "metadata": {},
   "source": [
    "# Reading a file from the internet\n",
    "\n",
    "To read a file from the internet (i.e., from a URL), we can use the `urlopen()` function that is available in the package `urllib.request`. One subtle difficulty with this function is that it returns encoded strings (also called \"byte objects\") rather than raw strings. For example, the following code downloads the poem \"The Road Not Taken\" from the class website and prints it out. You can see how the output is encapsulated in quotes with a 'b' in front (for \"byte object\"), and also that the newline character is explicitly written out as '\\n'."
   ]
  },
  {
   "cell_type": "code",
   "execution_count": 1,
   "metadata": {
    "collapsed": false
   },
   "outputs": [
    {
     "name": "stdout",
     "output_type": "stream",
     "text": [
      "b'        THE ROAD NOT TAKEN\\n'\n",
      "b'           Robert Frost\\n'\n",
      "b'\\n'\n",
      "b'Two roads diverged in a yellow wood,\\n'\n",
      "b'And sorry I could not travel both\\n'\n",
      "b'And be one traveler, long I stood\\n'\n",
      "b'And looked down one as far as I could\\n'\n",
      "b'To where it bent in the undergrowth;\\n'\n",
      "b'Then took the other, as just as fair,\\n'\n",
      "b'And having perhaps the better claim,\\n'\n",
      "b'Because it was grassy and wanted wear;\\n'\n",
      "b'Though as for that the passing there\\n'\n",
      "b'Had worn them really about the same,\\n'\n",
      "b'And both that morning equally lay\\n'\n",
      "b'In leaves no step had trodden black.\\n'\n",
      "b'Oh, I kept the first for another day!\\n'\n",
      "b'Yet knowing how way leads on to way,\\n'\n",
      "b'I doubted if I should ever come back.\\n'\n",
      "b'I shall be telling this with a sigh\\n'\n",
      "b'Somewhere ages and ages hence:\\n'\n",
      "b'Two roads diverged in a wood, and I-\\n'\n",
      "b'I took the one less traveled by,\\n'\n",
      "b'And that has made all the difference.\\n'\n"
     ]
    }
   ],
   "source": [
    "from urllib.request import urlopen\n",
    "\n",
    "file_URL = \"http://wilkelab.org/classes/SDS348/data_sets/road_not_taken.txt\"\n",
    "\n",
    "with urlopen(file_URL) as infile:\n",
    "    for line_encoded in infile:\n",
    "        print (line_encoded)"
   ]
  },
  {
   "cell_type": "markdown",
   "metadata": {},
   "source": [
    "To convert the encoded byte objects into raw strings that you can work with, you can call the function `decode()` on the byte object:"
   ]
  },
  {
   "cell_type": "code",
   "execution_count": 2,
   "metadata": {
    "collapsed": false
   },
   "outputs": [
    {
     "name": "stdout",
     "output_type": "stream",
     "text": [
      "        THE ROAD NOT TAKEN\n",
      "           Robert Frost\n",
      "\n",
      "Two roads diverged in a yellow wood,\n",
      "And sorry I could not travel both\n",
      "And be one traveler, long I stood\n",
      "And looked down one as far as I could\n",
      "To where it bent in the undergrowth;\n",
      "Then took the other, as just as fair,\n",
      "And having perhaps the better claim,\n",
      "Because it was grassy and wanted wear;\n",
      "Though as for that the passing there\n",
      "Had worn them really about the same,\n",
      "And both that morning equally lay\n",
      "In leaves no step had trodden black.\n",
      "Oh, I kept the first for another day!\n",
      "Yet knowing how way leads on to way,\n",
      "I doubted if I should ever come back.\n",
      "I shall be telling this with a sigh\n",
      "Somewhere ages and ages hence:\n",
      "Two roads diverged in a wood, and I-\n",
      "I took the one less traveled by,\n",
      "And that has made all the difference.\n"
     ]
    }
   ],
   "source": [
    "with urlopen(file_URL) as infile:\n",
    "    for line_encoded in infile:\n",
    "        line = line_encoded.decode()\n",
    "        print(line, end='') # need to set end='' because each line comes with a newline character already"
   ]
  },
  {
   "cell_type": "markdown",
   "metadata": {},
   "source": [
    "## Problems"
   ]
  },
  {
   "cell_type": "markdown",
   "metadata": {},
   "source": [
    "**Problem 1:**\n",
    "\n",
    "Write a function that can tell whether a string is DNA, RNA, or neither. Strings that contain some DNA/RNA and some other stuff, such as \"This is a gene: AGTACCGTAG\", should be flagged as neither."
   ]
  },
  {
   "cell_type": "code",
   "execution_count": 3,
   "metadata": {
    "collapsed": false
   },
   "outputs": [],
   "source": [
    "import re\n",
    "\n",
    "def what_is_it(string):\n",
    "    # your code goes here\n",
    "    pass # delete this\n",
    "\n",
    "what_is_it(\"AGCTCGAGCTA\")  # DNA\n",
    "what_is_it(\"AGCUCGAGCUA\")  # RNA\n",
    "what_is_it(\"AGCTCGAGCUA\")  # neither, uses Ts and Us at the same time\n",
    "what_is_it(\"This is a gene: AGTACCGTAG\")  # neither, contains other characters\n",
    "what_is_it(\"ucgcuucgacacgu\")  # RNA\n",
    "what_is_it(\"atgtctacact\")  # DNA"
   ]
  },
  {
   "cell_type": "markdown",
   "metadata": {},
   "source": [
    "**Problem 2:**\n",
    "\n",
    "Write code that counts the number of lines in Robert Frost's \"The Road Not Taken\" that contain the article \"the\". Also keep track of the words appearing immediately after the \"the\", by recording them in a list.\n",
    "\n",
    "**Hint 1:** Each line contains the article \"the\" either 0 or 1 times. You don't have to worry about multiple occurrences of \"the\" in the same line. However, make sure you don't count \"them\", \"there\", or similar words that contain \"the\" as a substring. \n",
    "\n",
    "**Hint 2:** Make sure that you capture both lower-case, upper-case, and all-caps spellings of \"the\". See if you can do this with a single regular expression."
   ]
  },
  {
   "cell_type": "code",
   "execution_count": 4,
   "metadata": {
    "collapsed": false
   },
   "outputs": [],
   "source": [
    "# We will use urlopen to read the file directly from the class website\n",
    "from urllib.request import urlopen\n",
    "\n",
    "file_URL = \"http://wilkelab.org/classes/SDS348/data_sets/road_not_taken.txt\"\n",
    "\n",
    "with urlopen(file_URL) as infile:\n",
    "    # your code goes here\n",
    "    pass # delete this"
   ]
  },
  {
   "cell_type": "markdown",
   "metadata": {},
   "source": [
    "## If this was easy\n",
    "\n",
    "**Problem 3:**\n",
    "\n",
    "For this problem, we will parse the strain names of influenza A virus. First, we will perform an Entrez search to retrieve influenza A viruses from 2016 for which we have a complete hemagglutinin coding sequence. (We limit the search to 50 results to keep things manageable.) "
   ]
  },
  {
   "cell_type": "code",
   "execution_count": 5,
   "metadata": {
    "collapsed": false
   },
   "outputs": [
    {
     "name": "stdout",
     "output_type": "stream",
     "text": [
      "Influenza A virus (A/swine/Iowa/A01932041/2016(H1N1)) segment 4 hemagglutinin (HA) gene, complete cds.\n",
      "Influenza A virus (A/Mexico/InDRE25/2016(H1N1)) segment 4 hemagglutinin (HA) gene, complete cds.\n",
      "Influenza A virus (A/Mexico/InDRE35/2016(H1N1)) segment 4 hemagglutinin (HA) gene, complete cds.\n",
      "Influenza A virus (A/Mexico/InDRE27/2016(H1N1)) segment 4 hemagglutinin (HA) gene, complete cds.\n",
      "Influenza A virus (A/environment/Gainesville/12/2016(H1N1)) segment 4 hemagglutinin (HA) gene, complete cds.\n",
      "Influenza A virus (A/Baltimore/0118/2016(H1N1)) segment 4 hemagglutinin (HA) gene, complete cds.\n",
      "Influenza A virus (A/Taipei/0059/2016(H1N1)) segment 4 hemagglutinin (HA) gene, complete cds.\n",
      "Influenza A virus (A/Linkou/0068/2016(H1N1)) segment 4 hemagglutinin (HA) gene, complete cds.\n",
      "Influenza A virus (A/Baltimore/0122/2016(H1N1)) segment 4 hemagglutinin (HA) gene, complete cds.\n",
      "Influenza A virus (A/Baltimore/0091/2016(H1N1)) segment 4 hemagglutinin (HA) gene, complete cds.\n",
      "Influenza A virus (A/Taipei/0056/2016(H1N1)) segment 4 hemagglutinin (HA) gene, complete cds.\n",
      "Influenza A virus (A/Keelung/0031/2016(H1N1)) segment 4 hemagglutinin (HA) gene, complete cds.\n",
      "Influenza A virus (A/EastBaltimore/0119/2016(H1N1)) segment 4 hemagglutinin (HA) gene, complete cds.\n",
      "Influenza A virus (A/Keelung/0068/2016(H1N1)) segment 4 hemagglutinin (HA) gene, complete cds.\n",
      "Influenza A virus (A/Linkou/0098/2016(H1N1)) segment 4 hemagglutinin (HA) gene, complete cds.\n",
      "Influenza A virus (A/Linkou/0097/2016(H1N1)) segment 4 hemagglutinin (HA) gene, complete cds.\n",
      "Influenza A virus (A/Linkou/0060/2016(H1N1)) segment 4 hemagglutinin (HA) gene, complete cds.\n",
      "Influenza A virus (A/Baltimore/0110/2016(H1N1)) segment 4 hemagglutinin (HA) gene, complete cds.\n",
      "Influenza A virus (A/Linkou/0057/2016(H1N1)) segment 4 hemagglutinin (HA) gene, complete cds.\n",
      "Influenza A virus (A/Baltimore/0096/2016(H1N1)) segment 4 hemagglutinin (HA) gene, complete cds.\n",
      "Influenza A virus (A/California/217/2016(H1N1)) hemagglutinin (HA) gene, complete cds.\n",
      "Influenza A virus (A/California/216/2016(H1N1)) hemagglutinin (HA) gene, complete cds.\n",
      "Influenza A virus (A/Georgia/63/2016(H1N1)) hemagglutinin (HA) gene, complete cds.\n",
      "Influenza A virus (A/Seoul/00013/2016(H1N1)) segment 4 hemagglutinin (HA) gene, complete cds.\n",
      "Influenza A virus (A/California/215/2016(H1N1)) hemagglutinin (HA) gene, complete cds.\n",
      "Influenza A virus (A/Arizona/82/2016(H1N1)) hemagglutinin (HA) gene, complete cds.\n",
      "Influenza A virus (A/Connecticut/45/2016(H1N1)) hemagglutinin (HA) gene, complete cds.\n",
      "Influenza A virus (A/Massachusetts/46/2016(H1N1)) hemagglutinin (HA) gene, complete cds.\n",
      "Influenza A virus (A/Washington/109/2016(H1N1)) hemagglutinin (HA) gene, complete cds.\n",
      "Influenza A virus (A/California/193/2016(H1N1)) hemagglutinin (HA) gene, complete cds.\n",
      "Influenza A virus (A/Montana/50/2016(H1N1)) hemagglutinin (HA) gene, complete cds.\n",
      "Influenza A virus (A/swine/Oklahoma/A01671784/2016(H1N1)) segment 4 hemagglutinin (HA) gene, complete cds.\n",
      "Influenza A virus (A/swine/Oklahoma/A01671948/2016(H1N1)) segment 4 hemagglutinin (HA) gene, complete cds.\n",
      "Influenza A virus (A/swine/Iowa/A01671937/2016(H1N1)) segment 4 hemagglutinin (HA) gene, complete cds.\n",
      "Influenza A virus (A/swine/Iowa/A01671941/2016(H1N1)) segment 4 hemagglutinin (HA) gene, complete cds.\n",
      "Influenza A virus (A/swine/Nebraska/A01671947/2016(H1N1)) segment 4 hemagglutinin (HA) gene, complete cds.\n",
      "Influenza A virus (A/swine/Indiana/A01671620/2016(H1N1)) segment 4 hemagglutinin (HA) gene, complete cds.\n",
      "Influenza A virus (A/swine/Iowa/A01671635/2016(H1N1)) segment 4 hemagglutinin (HA) gene, complete cds.\n",
      "Influenza A virus (A/swine/Iowa/A01671568/2016(H1N1)) segment 4 hemagglutinin (HA) gene, complete cds.\n",
      "Influenza A virus (A/Linkou/0084/2016(H1N1)) segment 4 hemagglutinin (HA) gene, complete cds.\n",
      "Influenza A virus (A/Taipei/0040/2016(H1N1)) segment 4 hemagglutinin (HA) gene, complete cds.\n",
      "Influenza A virus (A/Keelung/0053/2016(H1N1)) segment 4 hemagglutinin (HA) gene, complete cds.\n",
      "Influenza A virus (A/Taipei/0018/2016(H1N1)) segment 4 hemagglutinin (HA) gene, complete cds.\n",
      "Influenza A virus (A/Taipei/0067/2016(H1N1)) segment 4 hemagglutinin (HA) gene, complete cds.\n",
      "Influenza A virus (A/Linkou/0065/2016(H1N1)) segment 4 hemagglutinin (HA) gene, complete cds.\n",
      "Influenza A virus (A/Baltimore/0008/2016(H1N1)) segment 4 hemagglutinin (HA) gene, complete cds.\n",
      "Influenza A virus (A/Keelung/0042/2016(H1N1)) segment 4 hemagglutinin (HA) gene, complete cds.\n",
      "Influenza A virus (A/Baltimore/0076/2016(H1N1)) segment 4 hemagglutinin (HA) gene, complete cds.\n",
      "Influenza A virus (A/Linkou/0077/2016(H1N1)) segment 4 hemagglutinin (HA) gene, complete cds.\n",
      "Influenza A virus (A/EastBaltimore/0103/2016(H1N1)) segment 4 hemagglutinin (HA) gene, complete cds.\n"
     ]
    }
   ],
   "source": [
    "from Bio import Entrez, SeqIO\n",
    "\n",
    "Entrez.email = 'wilke@austin.utexas.edu'\n",
    "\n",
    "# let's do a search for influenza H1N1 viruses from 2016\n",
    "handle = Entrez.esearch(db=\"nucleotide\",  # database to search\n",
    "                        term=\"influenza a virus 2016 h1n1 hemagglutinin complete cds\",  # search term\n",
    "                        retmax=50  # limit the search to the first 50 results\n",
    "                        )\n",
    "record = Entrez.read(handle)\n",
    "handle.close()\n",
    "\n",
    "# download the results and turn into a list of records\n",
    "gi_list = record[\"IdList\"] # list of genbank identifiers found\n",
    "handle = Entrez.efetch(db=\"nucleotide\", id=gi_list, rettype=\"gb\", retmode=\"text\")\n",
    "records = list(SeqIO.parse(handle, \"genbank\")) # the list(...) statement ensures we will still have\n",
    "                                               # access to the results after handle.close()\n",
    "handle.close()\n",
    "\n",
    "for record in records:\n",
    "    print(record.description)"
   ]
  },
  {
   "cell_type": "markdown",
   "metadata": {},
   "source": [
    "Now write code that goes over all records in the list and counts (1) how many human strains there are and (2) how many strains were collected in California. To do this, you need to know how influenza strains are named. The naming scheme is \"A/*host (if not human)*/*region of origin*/*lineage number*/*year*/(*antigen type*)\" (see also [here](http://blog.h1n1.influenza.bvsalud.org/en/2009/09/20/how-do-we-name-influenza-a/)). The tricky part is that the host field is optional. For example, A/swine/Iowa/A01932041/2016(H1N1) is a 2016 H1N1 swine strain from Iowa, but A/California/217/2016(H1N1) is a 2016 H1N1 human strain from California."
   ]
  },
  {
   "cell_type": "code",
   "execution_count": 6,
   "metadata": {
    "collapsed": false
   },
   "outputs": [],
   "source": [
    "# your code goes here"
   ]
  }
 ],
 "metadata": {
  "kernelspec": {
   "display_name": "Python 3",
   "language": "python",
   "name": "python3"
  },
  "language_info": {
   "codemirror_mode": {
    "name": "ipython",
    "version": 3
   },
   "file_extension": ".py",
   "mimetype": "text/x-python",
   "name": "python",
   "nbconvert_exporter": "python",
   "pygments_lexer": "ipython3",
   "version": "3.6.0"
  }
 },
 "nbformat": 4,
 "nbformat_minor": 0
}

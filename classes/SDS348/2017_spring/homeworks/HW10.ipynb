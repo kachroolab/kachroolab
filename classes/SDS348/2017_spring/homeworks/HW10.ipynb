{
 "cells": [
  {
   "cell_type": "markdown",
   "metadata": {},
   "source": [
    "# Homework 10"
   ]
  },
  {
   "cell_type": "markdown",
   "metadata": {},
   "source": [
    "*Enter your name and EID here*\n",
    "\n",
    "**This homework is due on April 18, 2017 at 7:00pm. Please submit as a PDF file on Canvas. Before submission, please re-run all cells by clicking \"Kernel\" and selecting \"Restart & Run All.\"**\n"
   ]
  },
  {
   "cell_type": "markdown",
   "metadata": {},
   "source": [
    "**Problem 1 (2 points):** Using Biopython and the Pubmed database, calculate the total number of papers that Dr. Wilke has published from 2011-2016 (inclusive, so that's 6 years total). \n",
    "\n",
    "**HINTS**: Dr. Wilke will always appear as \"Wilke CO\" in the Pubmed database. Also, make sure to set the `retmax` argument to at least `60` in `Entrez.esearch()` so that you retrieve all of the papers. "
   ]
  },
  {
   "cell_type": "code",
   "execution_count": 1,
   "metadata": {
    "collapsed": false,
    "scrolled": true
   },
   "outputs": [],
   "source": [
    "# You will need Entrez and Medline to solve this problem\n",
    "from Bio import Entrez, Medline\n",
    "\n",
    "Entrez.email = \"your email goes here\"\n",
    "\n",
    "# Your code goes here"
   ]
  },
  {
   "cell_type": "markdown",
   "metadata": {
    "collapsed": false
   },
   "source": [
    "**Problem 2 (4 points):** From the years 2011-2016 (inclusive), in which journals did Dr. Wilke's papers appear? Print out all journals, in alphabetical order, making sure you don't print the same journal name twice.\n",
    "\n",
    "**Hint:** You can use the optional `key` argument in the sort function to make sure the sort is not case-sensitive."
   ]
  },
  {
   "cell_type": "code",
   "execution_count": 2,
   "metadata": {
    "collapsed": false
   },
   "outputs": [],
   "source": [
    "# Your code goes here"
   ]
  },
  {
   "cell_type": "markdown",
   "metadata": {},
   "source": [
    "**Problem 3 (4 points):** From 2011-2016 (inclusive), how many of Dr. Wilke's papers contain the terms \"evolution\" or \"evolutionary\" in the *title*, and how many in the *abstract*? Use python and **regular expressions** to find an answer. "
   ]
  },
  {
   "cell_type": "code",
   "execution_count": 3,
   "metadata": {
    "collapsed": false
   },
   "outputs": [],
   "source": [
    "# You'll need the module re for regular expressions\n",
    "import re\n",
    "\n",
    "# Your code goes here"
   ]
  }
 ],
 "metadata": {
  "kernelspec": {
   "display_name": "Python 3",
   "language": "python",
   "name": "python3"
  },
  "language_info": {
   "codemirror_mode": {
    "name": "ipython",
    "version": 3
   },
   "file_extension": ".py",
   "mimetype": "text/x-python",
   "name": "python",
   "nbconvert_exporter": "python",
   "pygments_lexer": "ipython3",
   "version": "3.6.0"
  }
 },
 "nbformat": 4,
 "nbformat_minor": 0
}

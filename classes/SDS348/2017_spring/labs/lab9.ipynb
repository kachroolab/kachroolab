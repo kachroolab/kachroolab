{
 "cells": [
  {
   "cell_type": "markdown",
   "metadata": {},
   "source": [
    "# Lab Worksheet 9"
   ]
  },
  {
   "cell_type": "markdown",
   "metadata": {},
   "source": [
    "**Problem 1:** The list `mylist` defined below contains 10 entries, some of which are numbers (integers and floats) and some of which are strings. For this question, you will determine the mean value for all numeric entries in this list. To accomplish this goal, write a for-loop that iterates over each entry in the list. Your code should print a final statement that reads, \"The mean of all numbers in the list is X\" (where X has been properly replaced with the mean).\n",
    "\n",
    "Hint - when solving this question, these functions may be useful: type(), len(), and sum()."
   ]
  },
  {
   "cell_type": "code",
   "execution_count": 2,
   "metadata": {
    "collapsed": false
   },
   "outputs": [],
   "source": [
    "mylist = [\"hello\", 89.21, -3, \"goodbye\", 21, 0.0056, -12.34, \"thank you\", \"please\", 999.44409]\n",
    "\n",
    "# Your code goes here.\n"
   ]
  },
  {
   "cell_type": "markdown",
   "metadata": {},
   "source": [
    "<br><br>\n",
    "\n",
    "**Problem 2:** Write a function to calculate the counts of A's, C's, G's, and T's in a DNA sequence. Your function should take a single argument (a string of a DNA sequence) and return a dictionary of nucleotide counts. For example, if the argument `\"ACGTACGT\"` is provided, the function should return this dictionary: `{\"A\":2, \"C\":2, \"G\":2, \"T\":2}`. Once your function has been written, run the function on the the provided dna_string string given below, and print the returned dictionary.\n",
    "\n",
    "Hint - use the string method .count() as part of your solution."
   ]
  },
  {
   "cell_type": "code",
   "execution_count": 4,
   "metadata": {
    "collapsed": false
   },
   "outputs": [],
   "source": [
    "# Your code goes here.\n",
    "\n",
    "\n",
    "\n",
    "\n",
    "\n",
    "\n",
    "\n",
    "\n",
    "\n",
    "\n",
    "\n",
    "\n",
    "\n",
    "# Variable to call the function on:\n",
    "dna_string = \"ATCGAGCTATACCGATACAGGCTGGTATAAAAGATTC\"\n"
   ]
  },
  {
   "cell_type": "code",
   "execution_count": null,
   "metadata": {
    "collapsed": true
   },
   "outputs": [],
   "source": []
  }
 ],
 "metadata": {
  "kernelspec": {
   "display_name": "Python 3",
   "language": "python",
   "name": "python3"
  },
  "language_info": {
   "codemirror_mode": {
    "name": "ipython",
    "version": 3
   },
   "file_extension": ".py",
   "mimetype": "text/x-python",
   "name": "python",
   "nbconvert_exporter": "python",
   "pygments_lexer": "ipython3",
   "version": "3.6.0"
  }
 },
 "nbformat": 4,
 "nbformat_minor": 0
}

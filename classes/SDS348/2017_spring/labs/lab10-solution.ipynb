{
 "cells": [
  {
   "cell_type": "markdown",
   "metadata": {},
   "source": [
    "# Lab Worksheet 10 Solutions"
   ]
  },
  {
   "cell_type": "markdown",
   "metadata": {},
   "source": [
    "**Problem 1:** In bioinformatics, we are often interested in determining whether or not two DNA or amino acid sequences are similar. One simple measure of similarity is called pairwise sequence identity. To calculate pairwise sequence identity, we take two sequences, count the number of positions in which both sequences share the same nucleotide or amino acid, and then divide by the total number of positions. For example, say we have these two DNA sequences: "
   ]
  },
  {
   "cell_type": "markdown",
   "metadata": {},
   "source": [
    "```      \n",
    "      Position: 1 2 3 4 5 6\n",
    "    Sequence 1: A T C G T A\n",
    "    Sequence 2: A T G A G A\n",
    "Identical(y/n): y y n n n y \n",
    "```"
   ]
  },
  {
   "cell_type": "markdown",
   "metadata": {},
   "source": [
    "There are 3 positions that match out of 6 total positions, so the sequence identity is 50% (3/6).\n",
    "\n",
    "Write a function that calculates the pairwise sequence identity for any two sequences of the same length. (Do not worry about properly aligning the two sequences. Sequence alignment is a concept we will return to later.) Your function should take two arguments: `seq1` and `seq2`. Make sure that your function checks for equal sequence lengths. If the input sequences are of different lengths, your function should return an error message. Otherwise, your function should return the pairwise sequence identity as a percentage.\n",
    "\n",
    "Finally, use your function to calculate the pairwise sequence identity of the two amino acid sequences below."
   ]
  },
  {
   "cell_type": "code",
   "execution_count": 1,
   "metadata": {
    "collapsed": false
   },
   "outputs": [
    {
     "data": {
      "text/plain": [
       "96.32352941176471"
      ]
     },
     "execution_count": 1,
     "metadata": {},
     "output_type": "execute_result"
    }
   ],
   "source": [
    "mouse_histone = \"MARTKQTARKSTGGKAPRKQLATKAARKSAPATGGVKKPHRYRPLTVALREIRRYQKSTELLIRKLPFQRLVREIAQDFKTDLRFQSSAVMALQEACEAYLVGLFEDTNLCAIHAKRVTIMPKDIQLARRIRGERA\"\n",
    "human_histone = \"MARTKQTARKSTGGKAPRKQLATKAQRKSARATGGVKKPHRYRPGTVALREIRRYQKSTELLIRKLPFQRLVTEIAQDFKTDLRFQSSAVNALQEACEAYLVGLFEDTNLCAIHAKRVTIMPKDIQLARRIRGERA\"\n",
    "\n",
    "# Your code goes here.\n",
    "\n",
    "def calc_seq_identity(seq1, seq2):\n",
    "    # Check that input sequences are the same length\n",
    "    if len(seq1) != len(seq2):\n",
    "        return \"Error, input sequences are of different lengths.\"\n",
    "    # Start a counter for the number of matches that we find\n",
    "    matches = 0\n",
    "    # Loop over the sequences\n",
    "    for i in range(len(seq1)):\n",
    "        # At each position i, check if letters are identical\n",
    "        if seq1[i] == seq2[i]:\n",
    "            matches += 1\n",
    "    # Calculate a percentage\n",
    "    return (matches/len(seq1))*100\n",
    "\n",
    "calc_seq_identity(mouse_histone, human_histone)\n",
    "    "
   ]
  },
  {
   "cell_type": "markdown",
   "metadata": {},
   "source": [
    "<br><br>\n",
    "\n",
    "**Problem 2:** Open the file \"`road_not_taken.txt`\" from In-class Worksheet 19. Randomly shuffle the order of the lines in the poem, then save them to a file called \"`road_not_taken_shuffled.txt`\". Open your new file and print the first 10 lines to make sure that the poem has been shuffled. **HINT:** You can use the function `shuffle()` to shuffle the items in a list."
   ]
  },
  {
   "cell_type": "code",
   "execution_count": 2,
   "metadata": {
    "collapsed": false
   },
   "outputs": [
    {
     "name": "stdout",
     "output_type": "stream",
     "text": [
      "Oh, I kept the first for another day!\n",
      "\n",
      "Then took the other, as just as fair,\n",
      "\n",
      "And be one traveler, long I stood\n",
      "\n",
      "And that has made all the difference.\n",
      "\n",
      "And sorry I could not travel both\n",
      "\n",
      "Somewhere ages and ages hence:\n",
      "\n",
      "        THE ROAD NOT TAKEN\n",
      "\n",
      "And having perhaps the better claim,\n",
      "\n",
      "\n",
      "\n",
      "Though as for that the passing there\n",
      "\n"
     ]
    }
   ],
   "source": [
    "# You will need the library \"random\" to shuffle the lines in the poem.\n",
    "from random import shuffle\n",
    "\n",
    "# Your code goes here.\n",
    "\n",
    "# Read in the poem\n",
    "with open(\"road_not_taken.txt\", \"r\") as file:\n",
    "    lines = file.readlines()\n",
    "\n",
    "# Shuffle the lines\n",
    "# The shuffle function shuffles a list in place\n",
    "shuffle(lines)\n",
    "\n",
    "# Write out shuffled poem\n",
    "with open(\"read_not_taken_shuffle.txt\", \"w\") as file:\n",
    "    file.writelines(lines)\n",
    "\n",
    "# Open file with shuffled poem and print the first 10 lines\n",
    "with open(\"read_not_taken_shuffle.txt\", \"r\") as file:\n",
    "    count = 1\n",
    "    for line in file:\n",
    "        if count <= 10:\n",
    "            print(line)\n",
    "            count += 1\n",
    "        else:\n",
    "            break"
   ]
  },
  {
   "cell_type": "code",
   "execution_count": null,
   "metadata": {
    "collapsed": true
   },
   "outputs": [],
   "source": []
  }
 ],
 "metadata": {
  "kernelspec": {
   "display_name": "Python 3",
   "language": "python",
   "name": "python3"
  },
  "language_info": {
   "codemirror_mode": {
    "name": "ipython",
    "version": 3
   },
   "file_extension": ".py",
   "mimetype": "text/x-python",
   "name": "python",
   "nbconvert_exporter": "python",
   "pygments_lexer": "ipython3",
   "version": "3.6.0"
  }
 },
 "nbformat": 4,
 "nbformat_minor": 0
}

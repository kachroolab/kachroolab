{
 "cells": [
  {
   "cell_type": "markdown",
   "metadata": {},
   "source": [
    "# Lab Worksheet 8"
   ]
  },
  {
   "cell_type": "markdown",
   "metadata": {},
   "source": [
    "**Problem 1:** Using only list indexing and the string function `split()`, write code that extracts the weight (here the number 7) from the string `data` defined below, and print out the result. What is the type of your final result? Use python to find out."
   ]
  },
  {
   "cell_type": "code",
   "execution_count": 1,
   "metadata": {
    "collapsed": false
   },
   "outputs": [],
   "source": [
    "data_string = \"height: 15; weight: 7; width: 5;\""
   ]
  },
  {
   "cell_type": "markdown",
   "metadata": {},
   "source": [
    "**Problem 2:** Using only string indexing, write code that does each of the following. In each case, store the result in a new variable and print its contents.\n",
    "\n",
    "- Extract the first 10 characters from the string `data_string`.\n",
    "- Extract characters 27 to 52 (corresponding to the upper-case letters of the alphabet) from the string `data_string`.\n",
    "- Extract characters 1 to 26 (corresponding to the lower-case letters of the alphabet) and characters 53 to 62 (corresponding to the numbers) from the string `data_string` and combine them into a single, new string that should look like this: \"abcdefghijklmnopqrstuvwxyz0123456789\"\n",
    "- Replace the letter at position 5 in `data_string` (the lower-case e) with a captial X. Do **not** use the function `replace()`.\n",
    "- Take the resulting string from the previous point and convert it all to upper case."
   ]
  },
  {
   "cell_type": "code",
   "execution_count": 2,
   "metadata": {
    "collapsed": false
   },
   "outputs": [],
   "source": [
    "data_string = \"abcdefghijklmnopqrstuvwxyzABCDEFGHIJKLMNOPQRSTUVWXYZ0123456789\""
   ]
  }
 ],
 "metadata": {
  "kernelspec": {
   "display_name": "Python 3",
   "language": "python",
   "name": "python3"
  },
  "language_info": {
   "codemirror_mode": {
    "name": "ipython",
    "version": 3
   },
   "file_extension": ".py",
   "mimetype": "text/x-python",
   "name": "python",
   "nbconvert_exporter": "python",
   "pygments_lexer": "ipython3",
   "version": "3.5.1"
  }
 },
 "nbformat": 4,
 "nbformat_minor": 0
}
